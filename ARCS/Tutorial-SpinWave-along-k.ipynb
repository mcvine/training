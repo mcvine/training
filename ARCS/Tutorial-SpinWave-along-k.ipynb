{
 "cells": [
  {
   "cell_type": "markdown",
   "metadata": {},
   "source": [
    "# Spin Wave Simulation"
   ]
  },
  {
   "cell_type": "markdown",
   "metadata": {},
   "source": [
    "Instrument: ARCS\n",
    "* Ei=100meV\n",
    "* Fermi chopper: 600 Hz\n",
    "* T0: 120Hz\n",
    " \n",
    "Sample: some crystal\n",
    "* lattice parameters: 2, 2.5, 3        90 90 90\n",
    "* spin wave: E = 80 * | sin($\\pi$k) |\n",
    "* Orientation: u,v = [1 0 2] and  [1 0 0]\n",
    "* psi angles: -90, 90, step 3\n"
   ]
  },
  {
   "cell_type": "markdown",
   "metadata": {},
   "source": [
    "## Step 0. some goodies"
   ]
  },
  {
   "cell_type": "code",
   "execution_count": 44,
   "metadata": {
    "collapsed": false
   },
   "outputs": [],
   "source": [
    "%matplotlib notebook\n",
    "from matplotlib import pyplot as plt\n",
    "import numpy as np\n",
    "import histogram.hdf as hh, histogram as H"
   ]
  },
  {
   "cell_type": "markdown",
   "metadata": {},
   "source": [
    "## Step 1. create dir structure"
   ]
  },
  {
   "cell_type": "code",
   "execution_count": 2,
   "metadata": {
    "collapsed": true
   },
   "outputs": [],
   "source": [
    "# Change this!!!\n",
    "workdir = \"/SNS/users/lj7/simulations/ARCS/spinwave-along-k-demo/\"\n",
    "!mkdir -p {workdir}"
   ]
  },
  {
   "cell_type": "code",
   "execution_count": 3,
   "metadata": {
    "collapsed": false
   },
   "outputs": [
    {
     "name": "stdout",
     "output_type": "stream",
     "text": [
      "/SNS/users/lj7/simulations/ARCS/spinwave-along-k-demo\n"
     ]
    }
   ],
   "source": [
    "%cd {workdir}\n",
    "!ls"
   ]
  },
  {
   "cell_type": "code",
   "execution_count": 4,
   "metadata": {
    "collapsed": true
   },
   "outputs": [],
   "source": [
    "!mkdir -p samples/X/sampleassembly\n",
    "!mkdir -p beam\n",
    "!mkdir -p scattering"
   ]
  },
  {
   "cell_type": "code",
   "execution_count": 5,
   "metadata": {
    "collapsed": false
   },
   "outputs": [
    {
     "name": "stdout",
     "output_type": "stream",
     "text": [
      ".\r\n",
      "./samples\r\n",
      "./samples/X\r\n",
      "./samples/X/sampleassembly\r\n",
      "./beam\r\n",
      "./scattering\r\n"
     ]
    }
   ],
   "source": [
    "!find ."
   ]
  },
  {
   "cell_type": "markdown",
   "metadata": {},
   "source": [
    "## Step 2. obtain beam simulation"
   ]
  },
  {
   "cell_type": "code",
   "execution_count": 6,
   "metadata": {
    "collapsed": true
   },
   "outputs": [],
   "source": [
    "!ln -s /SNS/users/lj7/simulations/ARCS/beam/100meV beam/100meV"
   ]
  },
  {
   "cell_type": "code",
   "execution_count": 7,
   "metadata": {
    "collapsed": false
   },
   "outputs": [
    {
     "name": "stdout",
     "output_type": "stream",
     "text": [
      "/SNS/users/lj7/simulations/ARCS/beam/100meV\n"
     ]
    }
   ],
   "source": [
    "%cd beam/100meV"
   ]
  },
  {
   "cell_type": "code",
   "execution_count": 45,
   "metadata": {
    "collapsed": false
   },
   "outputs": [
    {
     "name": "stderr",
     "output_type": "stream",
     "text": [
      "/SNS/users/lj7/software/miniconda2/envs/mcvine/lib/python2.7/site-packages/histogram/hdf/__init__.py:55: UserWarning: filename as url is deprecated\n",
      "  warnings.warn(\"filename as url is deprecated\")\n"
     ]
    },
    {
     "ename": "ValueError",
     "evalue": "out/ienergy.h5",
     "output_type": "error",
     "traceback": [
      "\u001b[1;31m---------------------------------------------------------------------------\u001b[0m",
      "\u001b[1;31mValueError\u001b[0m                                Traceback (most recent call last)",
      "\u001b[1;32m<ipython-input-45-adb5880c9afa>\u001b[0m in \u001b[0;36m<module>\u001b[1;34m()\u001b[0m\n\u001b[0;32m      1\u001b[0m \u001b[1;31m# check\u001b[0m\u001b[1;33m\u001b[0m\u001b[1;33m\u001b[0m\u001b[0m\n\u001b[0;32m      2\u001b[0m \u001b[1;32mimport\u001b[0m \u001b[0mhistogram\u001b[0m\u001b[1;33m.\u001b[0m\u001b[0mhdf\u001b[0m \u001b[1;32mas\u001b[0m \u001b[0mhh\u001b[0m\u001b[1;33m\u001b[0m\u001b[0m\n\u001b[1;32m----> 3\u001b[1;33m \u001b[0mie\u001b[0m \u001b[1;33m=\u001b[0m \u001b[0mhh\u001b[0m\u001b[1;33m.\u001b[0m\u001b[0mload\u001b[0m\u001b[1;33m(\u001b[0m\u001b[1;34m\"out/ienergy.h5\"\u001b[0m\u001b[1;33m)\u001b[0m\u001b[1;33m\u001b[0m\u001b[0m\n\u001b[0m\u001b[0;32m      4\u001b[0m \u001b[0mplt\u001b[0m\u001b[1;33m.\u001b[0m\u001b[0mplot\u001b[0m\u001b[1;33m(\u001b[0m\u001b[0mie\u001b[0m\u001b[1;33m.\u001b[0m\u001b[0menergy\u001b[0m\u001b[1;33m,\u001b[0m \u001b[0mie\u001b[0m\u001b[1;33m.\u001b[0m\u001b[0mI\u001b[0m\u001b[1;33m)\u001b[0m\u001b[1;33m\u001b[0m\u001b[0m\n\u001b[0;32m      5\u001b[0m \u001b[0mplt\u001b[0m\u001b[1;33m.\u001b[0m\u001b[0mtitle\u001b[0m\u001b[1;33m(\u001b[0m\u001b[1;34m\"I(E)\"\u001b[0m\u001b[1;33m)\u001b[0m\u001b[1;33m\u001b[0m\u001b[0m\n",
      "\u001b[1;32m/SNS/users/lj7/software/miniconda2/envs/mcvine/lib/python2.7/site-packages/histogram/hdf/__init__.pyc\u001b[0m in \u001b[0;36mload\u001b[1;34m(filename, pathinfile, fs, **kwds)\u001b[0m\n\u001b[0;32m     58\u001b[0m             \u001b[1;32mif\u001b[0m \u001b[1;32mnot\u001b[0m \u001b[0mos\u001b[0m\u001b[1;33m.\u001b[0m\u001b[0mpath\u001b[0m\u001b[1;33m.\u001b[0m\u001b[0mexists\u001b[0m\u001b[1;33m(\u001b[0m\u001b[0mfilename\u001b[0m\u001b[1;33m)\u001b[0m\u001b[1;33m:\u001b[0m\u001b[1;33m\u001b[0m\u001b[0m\n\u001b[0;32m     59\u001b[0m                 \u001b[0mmsg\u001b[0m \u001b[1;33m=\u001b[0m \u001b[1;34m\"invalid histogram url: %s\"\u001b[0m \u001b[1;33m%\u001b[0m \u001b[0murl\u001b[0m\u001b[1;33m\u001b[0m\u001b[0m\n\u001b[1;32m---> 60\u001b[1;33m                 \u001b[1;32mraise\u001b[0m \u001b[0mValueError\u001b[0m\u001b[1;33m,\u001b[0m \u001b[0murl\u001b[0m\u001b[1;33m\u001b[0m\u001b[0m\n\u001b[0m\u001b[0;32m     61\u001b[0m \u001b[1;33m\u001b[0m\u001b[0m\n\u001b[0;32m     62\u001b[0m     \u001b[1;32mif\u001b[0m \u001b[0mfs\u001b[0m \u001b[1;32mis\u001b[0m \u001b[0mNone\u001b[0m\u001b[1;33m:\u001b[0m\u001b[1;33m\u001b[0m\u001b[0m\n",
      "\u001b[1;31mValueError\u001b[0m: out/ienergy.h5"
     ]
    }
   ],
   "source": [
    "# check\n",
    "import histogram.hdf as hh\n",
    "ie = hh.load(\"out/ienergy.h5\")\n",
    "plt.plot(ie.energy, ie.I)\n",
    "plt.title(\"I(E)\")"
   ]
  },
  {
   "cell_type": "markdown",
   "metadata": {},
   "source": [
    "## Step 3. Create sample assembly"
   ]
  },
  {
   "cell_type": "code",
   "execution_count": 9,
   "metadata": {
    "collapsed": false
   },
   "outputs": [
    {
     "name": "stdout",
     "output_type": "stream",
     "text": [
      "/SNS/users/lj7/simulations/ARCS/spinwave-along-k-demo/samples/X/sampleassembly\n"
     ]
    }
   ],
   "source": [
    "%cd \"{workdir}/samples/X/sampleassembly\""
   ]
  },
  {
   "cell_type": "code",
   "execution_count": 10,
   "metadata": {
    "collapsed": true
   },
   "outputs": [],
   "source": [
    "%cp -a /SNS/users/lj7/simulations/samples/spinwave/* ."
   ]
  },
  {
   "cell_type": "code",
   "execution_count": 11,
   "metadata": {
    "collapsed": false
   },
   "outputs": [
    {
     "name": "stdout",
     "output_type": "stream",
     "text": [
      "Overwriting ./X.xyz\n"
     ]
    }
   ],
   "source": [
    "%%file ./X.xyz\n",
    "8\n",
    "2 0 0    0 2.5 0  0 0 3\n",
    "V 0.5 0.5 0.5\n",
    "V 0 0 0.5\n",
    "V 0 0.5 0\n",
    "V 0.5 0 0\n",
    "V 0 0 0\n",
    "V 0 0 0\n",
    "V 0 0 0\n",
    "V 0 0 0\n"
   ]
  },
  {
   "cell_type": "code",
   "execution_count": 12,
   "metadata": {
    "collapsed": false
   },
   "outputs": [
    {
     "name": "stdout",
     "output_type": "stream",
     "text": [
      "Overwriting ./sampleassembly.xml\n"
     ]
    }
   ],
   "source": [
    "%%file ./sampleassembly.xml\n",
    "<?xml version=\"1.0\"?>\n",
    "\n",
    "<!DOCTYPE SampleAssembly>\n",
    "\n",
    "<SampleAssembly name=\"X\"\n",
    "   max_multiplescattering_loops_among_scatterers=\"1\"\n",
    "   max_multiplescattering_loops_interactM_path1=\"4\"\n",
    "   min_neutron_probability=\".1\"\n",
    " >\n",
    "  \n",
    "  <PowderSample name=\"X\" type=\"sample\">\n",
    "    <Shape>\n",
    "      <block width=\"4.6*cm\" height=\"4.6*cm\" thickness=\"2.3/4*cm\"/>\n",
    "    </Shape>\n",
    "    <Phase type=\"crystal\">\n",
    "      <ChemicalFormula>X</ChemicalFormula>\n",
    "      <xyzfile>X.xyz</xyzfile>\n",
    "    </Phase>\n",
    "  </PowderSample>\n",
    "  \n",
    "  <LocalGeometer registry-coordinate-system=\"InstrumentScientist\">\n",
    "    <Register name=\"X\" position=\"(0,0,0)\" orientation=\"(0, 0, 0)\"/>\n",
    "  </LocalGeometer>\n",
    "\n",
    "  <Environment temperature=\"300*K\"/>\n",
    "\n",
    "</SampleAssembly>"
   ]
  },
  {
   "cell_type": "code",
   "execution_count": 13,
   "metadata": {
    "collapsed": false
   },
   "outputs": [
    {
     "name": "stdout",
     "output_type": "stream",
     "text": [
      "Overwriting ./X-scatterer.xml\n"
     ]
    }
   ],
   "source": [
    "%%file ./X-scatterer.xml\n",
    "<?xml version=\"1.0\"?>\n",
    "\n",
    "<!DOCTYPE scatterer>\n",
    "\n",
    "<!-- weights: absorption, scattering, transmission -->\n",
    "<homogeneous_scatterer \n",
    "  mcweights=\"0, 1, 0.1\"\n",
    "  max_multiplescattering_loops=\"3\"\n",
    "  >\n",
    "  \n",
    "  <KernelContainer average=\"yes\">\n",
    "    \n",
    "    <E_Q_Kernel \n",
    "\tE_Q=\"0\" \n",
    "\tS_Q=\"1\"\n",
    "\tQmin=\"0./angstrom\"\n",
    "\tQmax=\"16./angstrom\"\n",
    "\t/>\n",
    "    \n",
    "    <E_vQ_Kernel \n",
    "\tE_Q=\"pi:=3.1415926535897932; twopi:=2*pi; a:=2; b:=2.5; c:=3; \n",
    "    h:=a*Qx/twopi; k:=b*Qy/twopi; l:=c*Qz/twopi; \n",
    "    cospih2:=cos(h*pi)^2; cospil2:=cos(l*pi)^2; cospik2:=cos(k*pi)^2; \n",
    "    (80.0^2*(1-cospik2)) ^ (0.5)\"\n",
    "\tS_Q=\"1\"\n",
    "\tEmax=\"81*meV\"\n",
    "\t/>\n",
    "    \n",
    "  </KernelContainer>\n",
    "  \n",
    "</homogeneous_scatterer>"
   ]
  },
  {
   "cell_type": "code",
   "execution_count": 14,
   "metadata": {
    "collapsed": false
   },
   "outputs": [
    {
     "data": {
      "text/plain": [
       "(array([ 3.14159265,  0.        ,  0.        ]),\n",
       " array([ 0.        ,  2.51327412,  0.        ]),\n",
       " array([ 0.       ,  0.       ,  2.0943951]))"
      ]
     },
     "execution_count": 14,
     "metadata": {},
     "output_type": "execute_result"
    }
   ],
   "source": [
    "a,b,c=2,2.5,3\n",
    "\n",
    "from numpy import sin, cos, deg2rad\n",
    "a1 = [a, 0, 0]\n",
    "a2 = [0, b, 0]\n",
    "a3 = [0, 0, c]\n",
    "\n",
    "twopi = 2*np.pi\n",
    "f = twopi/np.dot(a1, np.cross(a2, a3))\n",
    "b1 = np.cross(a2,a3) * f\n",
    "b2 = np.cross(a3,a1) * f\n",
    "b3 = np.cross(a1,a2) * f\n",
    "b1,b2,b3"
   ]
  },
  {
   "cell_type": "markdown",
   "metadata": {},
   "source": [
    "#### Orientation of the kernel\n",
    "Here we need to use the convention that z is along beam, y vertical up.\n",
    "The kernel has its own cartesian axis e’x e’y e’z. Because we know\n",
    "u = 102 v = 100\n",
    ", we have the basis vectors of the instrument coordinate system\n",
    "\n",
    "    ez along b1 + 2*b3\n",
    "    ex along b1\n",
    "    \n",
    "\n",
    "So we have them in the reciprocal cartesian axis"
   ]
  },
  {
   "cell_type": "code",
   "execution_count": 15,
   "metadata": {
    "collapsed": false
   },
   "outputs": [
    {
     "data": {
      "text/plain": [
       "(array([ 0.8,  0. , -0.6]), array([ 0.,  1.,  0.]), array([ 0.6,  0. ,  0.8]))"
      ]
     },
     "execution_count": 15,
     "metadata": {},
     "output_type": "execute_result"
    }
   ],
   "source": [
    "ez = b1 + 2*b3; ez /= np.linalg.norm(ez)\n",
    "ex1 = b1\n",
    "ey = np.cross(ez, ex1); ey/=np.linalg.norm(ey)\n",
    "ex = np.cross(ey, ez)\n",
    "ex, ey, ez"
   ]
  },
  {
   "cell_type": "markdown",
   "metadata": {},
   "source": [
    "The rotation matrix is define as\n",
    "```\n",
    "    ex.ex’ ex.ey’ ex.ez’ \n",
    "R = ey.ex’ ey.ey’ ey.ez’\n",
    "    ez.ex’ ez.ey’ ez.ez’\n",
    "```\n",
    "So"
   ]
  },
  {
   "cell_type": "code",
   "execution_count": 16,
   "metadata": {
    "collapsed": false
   },
   "outputs": [
    {
     "data": {
      "text/plain": [
       "(array([[ 0.8,  0. , -0.6],\n",
       "        [ 0. ,  1. ,  0. ],\n",
       "        [ 0.6,  0. ,  0.8]]),\n",
       " array([ 0.8,  0. , -0.6,  0. ,  1. ,  0. ,  0.6,  0. ,  0.8]))"
      ]
     },
     "execution_count": 16,
     "metadata": {},
     "output_type": "execute_result"
    }
   ],
   "source": [
    "R = np.array([ ex, ey, ez ])\n",
    "Rflat = R.copy(); Rflat.shape = -1,\n",
    "R, Rflat"
   ]
  },
  {
   "cell_type": "markdown",
   "metadata": {},
   "source": [
    "Now we add an extra kernel parameter:"
   ]
  },
  {
   "cell_type": "code",
   "execution_count": 17,
   "metadata": {
    "collapsed": false
   },
   "outputs": [
    {
     "data": {
      "text/plain": [
       "'orientation=\"0.8,0.0,-0.6,0.0,1.0,0.0,0.6,0.0,0.8\"'"
      ]
     },
     "execution_count": 17,
     "metadata": {},
     "output_type": "execute_result"
    }
   ],
   "source": [
    "'orientation=\"%s\"' % (','.join(str(e) for e in Rflat),)"
   ]
  },
  {
   "cell_type": "code",
   "execution_count": null,
   "metadata": {
    "collapsed": true
   },
   "outputs": [],
   "source": [
    "# modify X-scatterer.xml to specify the orientation"
   ]
  },
  {
   "cell_type": "code",
   "execution_count": 18,
   "metadata": {
    "collapsed": false
   },
   "outputs": [
    {
     "name": "stdout",
     "output_type": "stream",
     "text": [
      "Overwriting ./X-scatterer.xml\n"
     ]
    }
   ],
   "source": [
    "%%file ./X-scatterer.xml\n",
    "<?xml version=\"1.0\"?>\n",
    "\n",
    "<!DOCTYPE scatterer>\n",
    "\n",
    "<!-- weights: absorption, scattering, transmission -->\n",
    "<homogeneous_scatterer \n",
    "  mcweights=\"0, 1, 0.1\"\n",
    "  max_multiplescattering_loops=\"3\"\n",
    "  >\n",
    "  \n",
    "  <KernelContainer average=\"yes\">\n",
    "    \n",
    "    <E_Q_Kernel \n",
    "\tE_Q=\"0\" \n",
    "\tS_Q=\"1\"\n",
    "\tQmin=\"0./angstrom\"\n",
    "\tQmax=\"16./angstrom\"\n",
    "\t/>\n",
    "    \n",
    "    <E_vQ_Kernel \n",
    "\tE_Q=\"pi:=3.1415926535897932; twopi:=2*pi; a:=2; b:=2.5; c:=3; \n",
    "    h:=a*Qx/twopi; k:=b*Qy/twopi; l:=c*Qz/twopi;\n",
    "    cospih2:=cos(h*pi)^2; cospil2:=cos(l*pi)^2; cospik2:=cos(k*pi)^2; \n",
    "    (80.^2*(1-cospik2)) ^ (0.5)\"\n",
    "\tS_Q=\"1\"\n",
    "\tEmax=\"81*meV\"\n",
    "\torientation=\"0.8,0.0,-0.6,0.0,1.0,0.0,0.6,0.0,0.8\"\n",
    "\t/>\n",
    "    \n",
    "  </KernelContainer>\n",
    "  \n",
    "</homogeneous_scatterer>"
   ]
  },
  {
   "cell_type": "code",
   "execution_count": 19,
   "metadata": {
    "collapsed": false
   },
   "outputs": [],
   "source": [
    "#!cat X-scatterer.xml"
   ]
  },
  {
   "cell_type": "code",
   "execution_count": 20,
   "metadata": {
    "collapsed": false
   },
   "outputs": [
    {
     "name": "stdout",
     "output_type": "stream",
     "text": [
      "dispersion-expression  sampleassembly.xml  X-scatterer.xml  X.xyz\r\n"
     ]
    }
   ],
   "source": [
    "!ls"
   ]
  },
  {
   "cell_type": "markdown",
   "metadata": {},
   "source": [
    "## Step 4. Scattering"
   ]
  },
  {
   "cell_type": "code",
   "execution_count": 21,
   "metadata": {
    "collapsed": false
   },
   "outputs": [
    {
     "name": "stdout",
     "output_type": "stream",
     "text": [
      "/SNS/users/lj7/simulations/ARCS/spinwave-along-k-demo/scattering\n"
     ]
    }
   ],
   "source": [
    "%cd \"{workdir}/scattering\""
   ]
  },
  {
   "cell_type": "code",
   "execution_count": 22,
   "metadata": {
    "collapsed": false
   },
   "outputs": [
    {
     "name": "stdout",
     "output_type": "stream",
     "text": [
      "scripts  template\r\n"
     ]
    }
   ],
   "source": [
    "!rsync -a ~lj7/simulations/mcvine_workflow/DGS/ARCS/single-crystal/* ./\n",
    "!ls"
   ]
  },
  {
   "cell_type": "code",
   "execution_count": 23,
   "metadata": {
    "collapsed": false
   },
   "outputs": [
    {
     "name": "stdout",
     "output_type": "stream",
     "text": [
      "/SNS/users/lj7/simulations/ARCS/spinwave-along-k-demo/scattering/template\n",
      "/SNS/users/lj7/simulations/ARCS/spinwave-along-k-demo/scattering\n"
     ]
    }
   ],
   "source": [
    "%cd template\n",
    "\n",
    "!ln -s ../../samples/X/sampleassembly\n",
    "\n",
    "!ln -s ../../beam/100meV beam\n",
    "\n",
    "%cd .."
   ]
  },
  {
   "cell_type": "code",
   "execution_count": 27,
   "metadata": {
    "collapsed": false
   },
   "outputs": [],
   "source": [
    "#!ls -l ./template"
   ]
  },
  {
   "cell_type": "code",
   "execution_count": 28,
   "metadata": {
    "collapsed": false
   },
   "outputs": [
    {
     "name": "stdout",
     "output_type": "stream",
     "text": [
      "Writing sim.yml\n"
     ]
    }
   ],
   "source": [
    "%%file sim.yml\n",
    "\n",
    "cluster:\n",
    "  nodes: 10\n",
    "instrument:\n",
    "  name: arcs\n",
    "scatter:\n",
    "  ncount: 1e6\n",
    "  multiple_scattering: off\n",
    "  template: ./template\n"
   ]
  },
  {
   "cell_type": "code",
   "execution_count": 29,
   "metadata": {
    "collapsed": false,
    "scrolled": true
   },
   "outputs": [
    {
     "name": "stdout",
     "output_type": "stream",
     "text": [
      "SAMPLE_ANGLE=30.0 time ./scatter &> log.scatter\n",
      "time ./create-nxs &> log.create-nxs\n",
      "\n",
      "real\t2m26.017s\n",
      "user\t17m27.703s\n",
      "sys\t4m9.064s\n",
      "cp sim.nxs sim-30.0.nxs\n",
      "mcvine instruments arcs nxs populate_metadata --type=Ei --beam_outdir=beam/out --nxs=sim-30.0.nxs\n",
      "/SNS/users/lj7/software/miniconda2/envs/mcvine/lib/python2.7/site-packages/mcvine/deployment_info.py:41: UserWarning: Neither environment variable MCVINE_DIR nor DANSE_DIR was defined. Assumed that it is /SNS/users/lj7/software/miniconda2/envs/mcvine.\n",
      "  warnings.warn(msg)\n"
     ]
    }
   ],
   "source": [
    "!./scripts/sim.py --angle=30.0"
   ]
  },
  {
   "cell_type": "code",
   "execution_count": 30,
   "metadata": {
    "collapsed": false
   },
   "outputs": [
    {
     "name": "stdout",
     "output_type": "stream",
     "text": [
      "Overwriting sim.yml\n"
     ]
    }
   ],
   "source": [
    "%%file sim.yml\n",
    "\n",
    "cluster:\n",
    "  nodes: 1\n",
    "instrument:\n",
    "  name: arcs\n",
    "scatter:\n",
    "  ncount: 1e6\n",
    "  multiple_scattering: off\n",
    "  template: ./template\n"
   ]
  },
  {
   "cell_type": "code",
   "execution_count": null,
   "metadata": {
    "collapsed": true
   },
   "outputs": [],
   "source": [
    "# a script to create a submit script submit.sh\n",
    "# may need to create several scripts"
   ]
  },
  {
   "cell_type": "code",
   "execution_count": 31,
   "metadata": {
    "collapsed": false
   },
   "outputs": [
    {
     "name": "stdout",
     "output_type": "stream",
     "text": [
      "Writing create-submit.py\n"
     ]
    }
   ],
   "source": [
    "%%file create-submit.py\n",
    "import numpy as np\n",
    "ostream = open('submit.sh', 'wt')\n",
    "for a in np.arange(-90, 90.1, 3.):\n",
    "    ostream.write('./scripts/sim.py --angle=%s &\\n' % a)\n",
    "    continue\n",
    "ostream.close()"
   ]
  },
  {
   "cell_type": "code",
   "execution_count": 32,
   "metadata": {
    "collapsed": false
   },
   "outputs": [],
   "source": [
    "# run the script to create submit.sh\n",
    "!python ./create-submit.py"
   ]
  },
  {
   "cell_type": "code",
   "execution_count": 33,
   "metadata": {
    "collapsed": false,
    "scrolled": true
   },
   "outputs": [],
   "source": [
    "# check submit script\n",
    "#!cat submit.sh"
   ]
  },
  {
   "cell_type": "code",
   "execution_count": 34,
   "metadata": {
    "collapsed": true
   },
   "outputs": [],
   "source": [
    "# make sure submit.sh is executable\n",
    "!chmod +x submit.sh\n",
    "# and then start it script in the background"
   ]
  },
  {
   "cell_type": "code",
   "execution_count": 35,
   "metadata": {
    "collapsed": false
   },
   "outputs": [
    {
     "name": "stdout",
     "output_type": "stream",
     "text": [
      "Starting job # 0 in a separate thread.\n"
     ]
    }
   ],
   "source": [
    "%%script bash --bg\n",
    "./submit.sh\n",
    "# this will take a while to finish."
   ]
  },
  {
   "cell_type": "markdown",
   "metadata": {},
   "source": [
    "## Step 5. Reduction"
   ]
  },
  {
   "cell_type": "code",
   "execution_count": 36,
   "metadata": {
    "collapsed": false
   },
   "outputs": [
    {
     "name": "stdout",
     "output_type": "stream",
     "text": [
      "/SNS/users/lj7/simulations/ARCS/spinwave-along-k-demo/scattering\n",
      "create-submit.py  work_18.0   work_-33.0  work_48.0   work_-63.0  work_78.0\n",
      "scripts\t\t  work_-21.0  work_33.0   work_-51.0  work_63.0   work_-81.0\n",
      "sim.yml\t\t  work_21.0   work_-36.0  work_51.0   work_-66.0  work_81.0\n",
      "submit.sh\t  work_-24.0  work_36.0   work_-54.0  work_66.0   work_-84.0\n",
      "template\t  work_24.0   work_-39.0  work_54.0   work_-69.0  work_84.0\n",
      "work_0.0\t  work_-27.0  work_39.0   work_-57.0  work_69.0   work_-87.0\n",
      "work_-12.0\t  work_27.0   work_-42.0  work_57.0   work_-72.0  work_87.0\n",
      "work_12.0\t  work_-3.0   work_42.0   work_-6.0   work_72.0   work_-9.0\n",
      "work_-15.0\t  work_3.0    work_-45.0  work_6.0    work_-75.0  work_9.0\n",
      "work_15.0\t  work_-30.0  work_45.0   work_-60.0  work_75.0   work_-90.0\n",
      "work_-18.0\t  work_30.0   work_-48.0  work_60.0   work_-78.0  work_90.0\n"
     ]
    }
   ],
   "source": [
    "%cd \"{workdir}/scattering\"\n",
    "!ls"
   ]
  },
  {
   "cell_type": "markdown",
   "metadata": {},
   "source": [
    "First we reduce event-mode nexus data for each angle using Mantid"
   ]
  },
  {
   "cell_type": "code",
   "execution_count": 37,
   "metadata": {
    "collapsed": false
   },
   "outputs": [
    {
     "name": "stdout",
     "output_type": "stream",
     "text": [
      "ls: cannot access work_2.0/reduced*: No such file or directory\r\n"
     ]
    }
   ],
   "source": [
    "# check if there is reduced data\n",
    "!ls work_2.0/reduced*"
   ]
  },
  {
   "cell_type": "code",
   "execution_count": 38,
   "metadata": {
    "collapsed": false,
    "scrolled": true
   },
   "outputs": [],
   "source": [
    "# reduce tof events to E events\n",
    "# this takes about 30 minutes\n",
    "!./scripts/reduce/reduceKeepingEvents_batch.py -90,90.1,3. 100 0,90,0.5 > log.reduce"
   ]
  },
  {
   "cell_type": "code",
   "execution_count": null,
   "metadata": {
    "collapsed": true
   },
   "outputs": [],
   "source": [
    "# create configuration file for getting a slice"
   ]
  },
  {
   "cell_type": "code",
   "execution_count": 39,
   "metadata": {
    "collapsed": false
   },
   "outputs": [
    {
     "name": "stdout",
     "output_type": "stream",
     "text": [
      "Writing slice_0K0.yml\n"
     ]
    }
   ],
   "source": [
    "%%file slice_0K0.yml\n",
    "\n",
    "angles: -90,90.1,3.0\n",
    "filename_pattern: work_%(angle)s/reduced_%(angle)s.nxs\n",
    "lattice: 2., 2.5, 3., 90, 90, 90\n",
    "orientation:\n",
    " u: 1, 0, 2\n",
    " v: 1,0,0\n",
    "Eaxis:\n",
    " min: 0\n",
    " max: 90\n",
    " N: 181\n",
    "Q_projections:\n",
    " U:\n",
    "  proj: 0,1,0\n",
    "  proj_name: 0,K,0\n",
    "  min: -5\n",
    "  max: 5\n",
    "  N: 251\n",
    " V:\n",
    "  proj: 1,0,0\n",
    "  proj_name: H,0,0\n",
    "  min: -5\n",
    "  max: 5\n",
    "  N: 1\n",
    " W:\n",
    "  proj: 0,0,1\n",
    "  proj_name: 0,0,L\n",
    "  min: -5\n",
    "  max: 5\n",
    "  N: 1\n",
    "output: slice_0K0.nxs\n"
   ]
  },
  {
   "cell_type": "code",
   "execution_count": 40,
   "metadata": {
    "collapsed": true
   },
   "outputs": [],
   "source": [
    "# hack for now. copy the config python file to current dir\n",
    "!cp /SNS/users/lj7/simulations/mcvine_workflow/DGS/ARCS/single-crystal/scripts/config.py ."
   ]
  },
  {
   "cell_type": "code",
   "execution_count": 41,
   "metadata": {
    "collapsed": false,
    "scrolled": true
   },
   "outputs": [],
   "source": [
    "# run script to calculate the slice\n",
    "# this take ~15 minutes \n",
    "! PYTHONPATH=$PWD:$PYTHONPATH ./scripts/reduce/getaslice.py slice_0K0.yml > log.slice_0K0"
   ]
  },
  {
   "cell_type": "code",
   "execution_count": 42,
   "metadata": {
    "collapsed": false
   },
   "outputs": [
    {
     "name": "stdout",
     "output_type": "stream",
     "text": [
      "FrameworkManager-[Notice] Welcome to Mantid 3.6.100\n",
      "FrameworkManager-[Notice] Please cite: http://dx.doi.org/10.1016/j.nima.2014.07.029 and this release: http://dx.doi.org/10.5286/Software/Mantid3.6.100\n",
      "Load-[Notice] Load started\n",
      "Load-[Notice] Load successful, Duration 1.46 seconds\n"
     ]
    }
   ],
   "source": [
    "# convert slice nexus to slice histogram for plotting\n",
    "!./scripts/reduce/slice2hist.py slice_0K0.nxs slice_0K0.h5"
   ]
  },
  {
   "cell_type": "code",
   "execution_count": 46,
   "metadata": {
    "collapsed": false,
    "scrolled": true
   },
   "outputs": [
    {
     "name": "stdout",
     "output_type": "stream",
     "text": [
      "plot z in (0, 1e-05)\n"
     ]
    },
    {
     "data": {
      "application/javascript": [
       "/* Put everything inside the global mpl namespace */\n",
       "window.mpl = {};\n",
       "\n",
       "mpl.get_websocket_type = function() {\n",
       "    if (typeof(WebSocket) !== 'undefined') {\n",
       "        return WebSocket;\n",
       "    } else if (typeof(MozWebSocket) !== 'undefined') {\n",
       "        return MozWebSocket;\n",
       "    } else {\n",
       "        alert('Your browser does not have WebSocket support.' +\n",
       "              'Please try Chrome, Safari or Firefox ≥ 6. ' +\n",
       "              'Firefox 4 and 5 are also supported but you ' +\n",
       "              'have to enable WebSockets in about:config.');\n",
       "    };\n",
       "}\n",
       "\n",
       "mpl.figure = function(figure_id, websocket, ondownload, parent_element) {\n",
       "    this.id = figure_id;\n",
       "\n",
       "    this.ws = websocket;\n",
       "\n",
       "    this.supports_binary = (this.ws.binaryType != undefined);\n",
       "\n",
       "    if (!this.supports_binary) {\n",
       "        var warnings = document.getElementById(\"mpl-warnings\");\n",
       "        if (warnings) {\n",
       "            warnings.style.display = 'block';\n",
       "            warnings.textContent = (\n",
       "                \"This browser does not support binary websocket messages. \" +\n",
       "                    \"Performance may be slow.\");\n",
       "        }\n",
       "    }\n",
       "\n",
       "    this.imageObj = new Image();\n",
       "\n",
       "    this.context = undefined;\n",
       "    this.message = undefined;\n",
       "    this.canvas = undefined;\n",
       "    this.rubberband_canvas = undefined;\n",
       "    this.rubberband_context = undefined;\n",
       "    this.format_dropdown = undefined;\n",
       "\n",
       "    this.image_mode = 'full';\n",
       "\n",
       "    this.root = $('<div/>');\n",
       "    this._root_extra_style(this.root)\n",
       "    this.root.attr('style', 'display: inline-block');\n",
       "\n",
       "    $(parent_element).append(this.root);\n",
       "\n",
       "    this._init_header(this);\n",
       "    this._init_canvas(this);\n",
       "    this._init_toolbar(this);\n",
       "\n",
       "    var fig = this;\n",
       "\n",
       "    this.waiting = false;\n",
       "\n",
       "    this.ws.onopen =  function () {\n",
       "            fig.send_message(\"supports_binary\", {value: fig.supports_binary});\n",
       "            fig.send_message(\"send_image_mode\", {});\n",
       "            fig.send_message(\"refresh\", {});\n",
       "        }\n",
       "\n",
       "    this.imageObj.onload = function() {\n",
       "            if (fig.image_mode == 'full') {\n",
       "                // Full images could contain transparency (where diff images\n",
       "                // almost always do), so we need to clear the canvas so that\n",
       "                // there is no ghosting.\n",
       "                fig.context.clearRect(0, 0, fig.canvas.width, fig.canvas.height);\n",
       "            }\n",
       "            fig.context.drawImage(fig.imageObj, 0, 0);\n",
       "        };\n",
       "\n",
       "    this.imageObj.onunload = function() {\n",
       "        this.ws.close();\n",
       "    }\n",
       "\n",
       "    this.ws.onmessage = this._make_on_message_function(this);\n",
       "\n",
       "    this.ondownload = ondownload;\n",
       "}\n",
       "\n",
       "mpl.figure.prototype._init_header = function() {\n",
       "    var titlebar = $(\n",
       "        '<div class=\"ui-dialog-titlebar ui-widget-header ui-corner-all ' +\n",
       "        'ui-helper-clearfix\"/>');\n",
       "    var titletext = $(\n",
       "        '<div class=\"ui-dialog-title\" style=\"width: 100%; ' +\n",
       "        'text-align: center; padding: 3px;\"/>');\n",
       "    titlebar.append(titletext)\n",
       "    this.root.append(titlebar);\n",
       "    this.header = titletext[0];\n",
       "}\n",
       "\n",
       "\n",
       "\n",
       "mpl.figure.prototype._canvas_extra_style = function(canvas_div) {\n",
       "\n",
       "}\n",
       "\n",
       "\n",
       "mpl.figure.prototype._root_extra_style = function(canvas_div) {\n",
       "\n",
       "}\n",
       "\n",
       "mpl.figure.prototype._init_canvas = function() {\n",
       "    var fig = this;\n",
       "\n",
       "    var canvas_div = $('<div/>');\n",
       "\n",
       "    canvas_div.attr('style', 'position: relative; clear: both; outline: 0');\n",
       "\n",
       "    function canvas_keyboard_event(event) {\n",
       "        return fig.key_event(event, event['data']);\n",
       "    }\n",
       "\n",
       "    canvas_div.keydown('key_press', canvas_keyboard_event);\n",
       "    canvas_div.keyup('key_release', canvas_keyboard_event);\n",
       "    this.canvas_div = canvas_div\n",
       "    this._canvas_extra_style(canvas_div)\n",
       "    this.root.append(canvas_div);\n",
       "\n",
       "    var canvas = $('<canvas/>');\n",
       "    canvas.addClass('mpl-canvas');\n",
       "    canvas.attr('style', \"left: 0; top: 0; z-index: 0; outline: 0\")\n",
       "\n",
       "    this.canvas = canvas[0];\n",
       "    this.context = canvas[0].getContext(\"2d\");\n",
       "\n",
       "    var rubberband = $('<canvas/>');\n",
       "    rubberband.attr('style', \"position: absolute; left: 0; top: 0; z-index: 1;\")\n",
       "\n",
       "    var pass_mouse_events = true;\n",
       "\n",
       "    canvas_div.resizable({\n",
       "        start: function(event, ui) {\n",
       "            pass_mouse_events = false;\n",
       "        },\n",
       "        resize: function(event, ui) {\n",
       "            fig.request_resize(ui.size.width, ui.size.height);\n",
       "        },\n",
       "        stop: function(event, ui) {\n",
       "            pass_mouse_events = true;\n",
       "            fig.request_resize(ui.size.width, ui.size.height);\n",
       "        },\n",
       "    });\n",
       "\n",
       "    function mouse_event_fn(event) {\n",
       "        if (pass_mouse_events)\n",
       "            return fig.mouse_event(event, event['data']);\n",
       "    }\n",
       "\n",
       "    rubberband.mousedown('button_press', mouse_event_fn);\n",
       "    rubberband.mouseup('button_release', mouse_event_fn);\n",
       "    // Throttle sequential mouse events to 1 every 20ms.\n",
       "    rubberband.mousemove('motion_notify', mouse_event_fn);\n",
       "\n",
       "    rubberband.mouseenter('figure_enter', mouse_event_fn);\n",
       "    rubberband.mouseleave('figure_leave', mouse_event_fn);\n",
       "\n",
       "    canvas_div.on(\"wheel\", function (event) {\n",
       "        event = event.originalEvent;\n",
       "        event['data'] = 'scroll'\n",
       "        if (event.deltaY < 0) {\n",
       "            event.step = 1;\n",
       "        } else {\n",
       "            event.step = -1;\n",
       "        }\n",
       "        mouse_event_fn(event);\n",
       "    });\n",
       "\n",
       "    canvas_div.append(canvas);\n",
       "    canvas_div.append(rubberband);\n",
       "\n",
       "    this.rubberband = rubberband;\n",
       "    this.rubberband_canvas = rubberband[0];\n",
       "    this.rubberband_context = rubberband[0].getContext(\"2d\");\n",
       "    this.rubberband_context.strokeStyle = \"#000000\";\n",
       "\n",
       "    this._resize_canvas = function(width, height) {\n",
       "        // Keep the size of the canvas, canvas container, and rubber band\n",
       "        // canvas in synch.\n",
       "        canvas_div.css('width', width)\n",
       "        canvas_div.css('height', height)\n",
       "\n",
       "        canvas.attr('width', width);\n",
       "        canvas.attr('height', height);\n",
       "\n",
       "        rubberband.attr('width', width);\n",
       "        rubberband.attr('height', height);\n",
       "    }\n",
       "\n",
       "    // Set the figure to an initial 600x600px, this will subsequently be updated\n",
       "    // upon first draw.\n",
       "    this._resize_canvas(600, 600);\n",
       "\n",
       "    // Disable right mouse context menu.\n",
       "    $(this.rubberband_canvas).bind(\"contextmenu\",function(e){\n",
       "        return false;\n",
       "    });\n",
       "\n",
       "    function set_focus () {\n",
       "        canvas.focus();\n",
       "        canvas_div.focus();\n",
       "    }\n",
       "\n",
       "    window.setTimeout(set_focus, 100);\n",
       "}\n",
       "\n",
       "mpl.figure.prototype._init_toolbar = function() {\n",
       "    var fig = this;\n",
       "\n",
       "    var nav_element = $('<div/>')\n",
       "    nav_element.attr('style', 'width: 100%');\n",
       "    this.root.append(nav_element);\n",
       "\n",
       "    // Define a callback function for later on.\n",
       "    function toolbar_event(event) {\n",
       "        return fig.toolbar_button_onclick(event['data']);\n",
       "    }\n",
       "    function toolbar_mouse_event(event) {\n",
       "        return fig.toolbar_button_onmouseover(event['data']);\n",
       "    }\n",
       "\n",
       "    for(var toolbar_ind in mpl.toolbar_items) {\n",
       "        var name = mpl.toolbar_items[toolbar_ind][0];\n",
       "        var tooltip = mpl.toolbar_items[toolbar_ind][1];\n",
       "        var image = mpl.toolbar_items[toolbar_ind][2];\n",
       "        var method_name = mpl.toolbar_items[toolbar_ind][3];\n",
       "\n",
       "        if (!name) {\n",
       "            // put a spacer in here.\n",
       "            continue;\n",
       "        }\n",
       "        var button = $('<button/>');\n",
       "        button.addClass('ui-button ui-widget ui-state-default ui-corner-all ' +\n",
       "                        'ui-button-icon-only');\n",
       "        button.attr('role', 'button');\n",
       "        button.attr('aria-disabled', 'false');\n",
       "        button.click(method_name, toolbar_event);\n",
       "        button.mouseover(tooltip, toolbar_mouse_event);\n",
       "\n",
       "        var icon_img = $('<span/>');\n",
       "        icon_img.addClass('ui-button-icon-primary ui-icon');\n",
       "        icon_img.addClass(image);\n",
       "        icon_img.addClass('ui-corner-all');\n",
       "\n",
       "        var tooltip_span = $('<span/>');\n",
       "        tooltip_span.addClass('ui-button-text');\n",
       "        tooltip_span.html(tooltip);\n",
       "\n",
       "        button.append(icon_img);\n",
       "        button.append(tooltip_span);\n",
       "\n",
       "        nav_element.append(button);\n",
       "    }\n",
       "\n",
       "    var fmt_picker_span = $('<span/>');\n",
       "\n",
       "    var fmt_picker = $('<select/>');\n",
       "    fmt_picker.addClass('mpl-toolbar-option ui-widget ui-widget-content');\n",
       "    fmt_picker_span.append(fmt_picker);\n",
       "    nav_element.append(fmt_picker_span);\n",
       "    this.format_dropdown = fmt_picker[0];\n",
       "\n",
       "    for (var ind in mpl.extensions) {\n",
       "        var fmt = mpl.extensions[ind];\n",
       "        var option = $(\n",
       "            '<option/>', {selected: fmt === mpl.default_extension}).html(fmt);\n",
       "        fmt_picker.append(option)\n",
       "    }\n",
       "\n",
       "    // Add hover states to the ui-buttons\n",
       "    $( \".ui-button\" ).hover(\n",
       "        function() { $(this).addClass(\"ui-state-hover\");},\n",
       "        function() { $(this).removeClass(\"ui-state-hover\");}\n",
       "    );\n",
       "\n",
       "    var status_bar = $('<span class=\"mpl-message\"/>');\n",
       "    nav_element.append(status_bar);\n",
       "    this.message = status_bar[0];\n",
       "}\n",
       "\n",
       "mpl.figure.prototype.request_resize = function(x_pixels, y_pixels) {\n",
       "    // Request matplotlib to resize the figure. Matplotlib will then trigger a resize in the client,\n",
       "    // which will in turn request a refresh of the image.\n",
       "    this.send_message('resize', {'width': x_pixels, 'height': y_pixels});\n",
       "}\n",
       "\n",
       "mpl.figure.prototype.send_message = function(type, properties) {\n",
       "    properties['type'] = type;\n",
       "    properties['figure_id'] = this.id;\n",
       "    this.ws.send(JSON.stringify(properties));\n",
       "}\n",
       "\n",
       "mpl.figure.prototype.send_draw_message = function() {\n",
       "    if (!this.waiting) {\n",
       "        this.waiting = true;\n",
       "        this.ws.send(JSON.stringify({type: \"draw\", figure_id: this.id}));\n",
       "    }\n",
       "}\n",
       "\n",
       "\n",
       "mpl.figure.prototype.handle_save = function(fig, msg) {\n",
       "    var format_dropdown = fig.format_dropdown;\n",
       "    var format = format_dropdown.options[format_dropdown.selectedIndex].value;\n",
       "    fig.ondownload(fig, format);\n",
       "}\n",
       "\n",
       "\n",
       "mpl.figure.prototype.handle_resize = function(fig, msg) {\n",
       "    var size = msg['size'];\n",
       "    if (size[0] != fig.canvas.width || size[1] != fig.canvas.height) {\n",
       "        fig._resize_canvas(size[0], size[1]);\n",
       "        fig.send_message(\"refresh\", {});\n",
       "    };\n",
       "}\n",
       "\n",
       "mpl.figure.prototype.handle_rubberband = function(fig, msg) {\n",
       "    var x0 = msg['x0'];\n",
       "    var y0 = fig.canvas.height - msg['y0'];\n",
       "    var x1 = msg['x1'];\n",
       "    var y1 = fig.canvas.height - msg['y1'];\n",
       "    x0 = Math.floor(x0) + 0.5;\n",
       "    y0 = Math.floor(y0) + 0.5;\n",
       "    x1 = Math.floor(x1) + 0.5;\n",
       "    y1 = Math.floor(y1) + 0.5;\n",
       "    var min_x = Math.min(x0, x1);\n",
       "    var min_y = Math.min(y0, y1);\n",
       "    var width = Math.abs(x1 - x0);\n",
       "    var height = Math.abs(y1 - y0);\n",
       "\n",
       "    fig.rubberband_context.clearRect(\n",
       "        0, 0, fig.canvas.width, fig.canvas.height);\n",
       "\n",
       "    fig.rubberband_context.strokeRect(min_x, min_y, width, height);\n",
       "}\n",
       "\n",
       "mpl.figure.prototype.handle_figure_label = function(fig, msg) {\n",
       "    // Updates the figure title.\n",
       "    fig.header.textContent = msg['label'];\n",
       "}\n",
       "\n",
       "mpl.figure.prototype.handle_cursor = function(fig, msg) {\n",
       "    var cursor = msg['cursor'];\n",
       "    switch(cursor)\n",
       "    {\n",
       "    case 0:\n",
       "        cursor = 'pointer';\n",
       "        break;\n",
       "    case 1:\n",
       "        cursor = 'default';\n",
       "        break;\n",
       "    case 2:\n",
       "        cursor = 'crosshair';\n",
       "        break;\n",
       "    case 3:\n",
       "        cursor = 'move';\n",
       "        break;\n",
       "    }\n",
       "    fig.rubberband_canvas.style.cursor = cursor;\n",
       "}\n",
       "\n",
       "mpl.figure.prototype.handle_message = function(fig, msg) {\n",
       "    fig.message.textContent = msg['message'];\n",
       "}\n",
       "\n",
       "mpl.figure.prototype.handle_draw = function(fig, msg) {\n",
       "    // Request the server to send over a new figure.\n",
       "    fig.send_draw_message();\n",
       "}\n",
       "\n",
       "mpl.figure.prototype.handle_image_mode = function(fig, msg) {\n",
       "    fig.image_mode = msg['mode'];\n",
       "}\n",
       "\n",
       "mpl.figure.prototype.updated_canvas_event = function() {\n",
       "    // Called whenever the canvas gets updated.\n",
       "    this.send_message(\"ack\", {});\n",
       "}\n",
       "\n",
       "// A function to construct a web socket function for onmessage handling.\n",
       "// Called in the figure constructor.\n",
       "mpl.figure.prototype._make_on_message_function = function(fig) {\n",
       "    return function socket_on_message(evt) {\n",
       "        if (evt.data instanceof Blob) {\n",
       "            /* FIXME: We get \"Resource interpreted as Image but\n",
       "             * transferred with MIME type text/plain:\" errors on\n",
       "             * Chrome.  But how to set the MIME type?  It doesn't seem\n",
       "             * to be part of the websocket stream */\n",
       "            evt.data.type = \"image/png\";\n",
       "\n",
       "            /* Free the memory for the previous frames */\n",
       "            if (fig.imageObj.src) {\n",
       "                (window.URL || window.webkitURL).revokeObjectURL(\n",
       "                    fig.imageObj.src);\n",
       "            }\n",
       "\n",
       "            fig.imageObj.src = (window.URL || window.webkitURL).createObjectURL(\n",
       "                evt.data);\n",
       "            fig.updated_canvas_event();\n",
       "            fig.waiting = false;\n",
       "            return;\n",
       "        }\n",
       "        else if (typeof evt.data === 'string' && evt.data.slice(0, 21) == \"data:image/png;base64\") {\n",
       "            fig.imageObj.src = evt.data;\n",
       "            fig.updated_canvas_event();\n",
       "            fig.waiting = false;\n",
       "            return;\n",
       "        }\n",
       "\n",
       "        var msg = JSON.parse(evt.data);\n",
       "        var msg_type = msg['type'];\n",
       "\n",
       "        // Call the  \"handle_{type}\" callback, which takes\n",
       "        // the figure and JSON message as its only arguments.\n",
       "        try {\n",
       "            var callback = fig[\"handle_\" + msg_type];\n",
       "        } catch (e) {\n",
       "            console.log(\"No handler for the '\" + msg_type + \"' message type: \", msg);\n",
       "            return;\n",
       "        }\n",
       "\n",
       "        if (callback) {\n",
       "            try {\n",
       "                // console.log(\"Handling '\" + msg_type + \"' message: \", msg);\n",
       "                callback(fig, msg);\n",
       "            } catch (e) {\n",
       "                console.log(\"Exception inside the 'handler_\" + msg_type + \"' callback:\", e, e.stack, msg);\n",
       "            }\n",
       "        }\n",
       "    };\n",
       "}\n",
       "\n",
       "// from http://stackoverflow.com/questions/1114465/getting-mouse-location-in-canvas\n",
       "mpl.findpos = function(e) {\n",
       "    //this section is from http://www.quirksmode.org/js/events_properties.html\n",
       "    var targ;\n",
       "    if (!e)\n",
       "        e = window.event;\n",
       "    if (e.target)\n",
       "        targ = e.target;\n",
       "    else if (e.srcElement)\n",
       "        targ = e.srcElement;\n",
       "    if (targ.nodeType == 3) // defeat Safari bug\n",
       "        targ = targ.parentNode;\n",
       "\n",
       "    // jQuery normalizes the pageX and pageY\n",
       "    // pageX,Y are the mouse positions relative to the document\n",
       "    // offset() returns the position of the element relative to the document\n",
       "    var x = e.pageX - $(targ).offset().left;\n",
       "    var y = e.pageY - $(targ).offset().top;\n",
       "\n",
       "    return {\"x\": x, \"y\": y};\n",
       "};\n",
       "\n",
       "/*\n",
       " * return a copy of an object with only non-object keys\n",
       " * we need this to avoid circular references\n",
       " * http://stackoverflow.com/a/24161582/3208463\n",
       " */\n",
       "function simpleKeys (original) {\n",
       "  return Object.keys(original).reduce(function (obj, key) {\n",
       "    if (typeof original[key] !== 'object')\n",
       "        obj[key] = original[key]\n",
       "    return obj;\n",
       "  }, {});\n",
       "}\n",
       "\n",
       "mpl.figure.prototype.mouse_event = function(event, name) {\n",
       "    var canvas_pos = mpl.findpos(event)\n",
       "\n",
       "    if (name === 'button_press')\n",
       "    {\n",
       "        this.canvas.focus();\n",
       "        this.canvas_div.focus();\n",
       "    }\n",
       "\n",
       "    var x = canvas_pos.x;\n",
       "    var y = canvas_pos.y;\n",
       "\n",
       "    this.send_message(name, {x: x, y: y, button: event.button,\n",
       "                             step: event.step,\n",
       "                             guiEvent: simpleKeys(event)});\n",
       "\n",
       "    /* This prevents the web browser from automatically changing to\n",
       "     * the text insertion cursor when the button is pressed.  We want\n",
       "     * to control all of the cursor setting manually through the\n",
       "     * 'cursor' event from matplotlib */\n",
       "    event.preventDefault();\n",
       "    return false;\n",
       "}\n",
       "\n",
       "mpl.figure.prototype._key_event_extra = function(event, name) {\n",
       "    // Handle any extra behaviour associated with a key event\n",
       "}\n",
       "\n",
       "mpl.figure.prototype.key_event = function(event, name) {\n",
       "\n",
       "    // Prevent repeat events\n",
       "    if (name == 'key_press')\n",
       "    {\n",
       "        if (event.which === this._key)\n",
       "            return;\n",
       "        else\n",
       "            this._key = event.which;\n",
       "    }\n",
       "    if (name == 'key_release')\n",
       "        this._key = null;\n",
       "\n",
       "    var value = '';\n",
       "    if (event.ctrlKey && event.which != 17)\n",
       "        value += \"ctrl+\";\n",
       "    if (event.altKey && event.which != 18)\n",
       "        value += \"alt+\";\n",
       "    if (event.shiftKey && event.which != 16)\n",
       "        value += \"shift+\";\n",
       "\n",
       "    value += 'k';\n",
       "    value += event.which.toString();\n",
       "\n",
       "    this._key_event_extra(event, name);\n",
       "\n",
       "    this.send_message(name, {key: value,\n",
       "                             guiEvent: simpleKeys(event)});\n",
       "    return false;\n",
       "}\n",
       "\n",
       "mpl.figure.prototype.toolbar_button_onclick = function(name) {\n",
       "    if (name == 'download') {\n",
       "        this.handle_save(this, null);\n",
       "    } else {\n",
       "        this.send_message(\"toolbar_button\", {name: name});\n",
       "    }\n",
       "};\n",
       "\n",
       "mpl.figure.prototype.toolbar_button_onmouseover = function(tooltip) {\n",
       "    this.message.textContent = tooltip;\n",
       "};\n",
       "mpl.toolbar_items = [[\"Home\", \"Reset original view\", \"fa fa-home icon-home\", \"home\"], [\"Back\", \"Back to  previous view\", \"fa fa-arrow-left icon-arrow-left\", \"back\"], [\"Forward\", \"Forward to next view\", \"fa fa-arrow-right icon-arrow-right\", \"forward\"], [\"\", \"\", \"\", \"\"], [\"Pan\", \"Pan axes with left mouse, zoom with right\", \"fa fa-arrows icon-move\", \"pan\"], [\"Zoom\", \"Zoom to rectangle\", \"fa fa-square-o icon-check-empty\", \"zoom\"], [\"\", \"\", \"\", \"\"], [\"Download\", \"Download plot\", \"fa fa-floppy-o icon-save\", \"download\"]];\n",
       "\n",
       "mpl.extensions = [\"eps\", \"pdf\", \"png\", \"ps\", \"raw\", \"svg\"];\n",
       "\n",
       "mpl.default_extension = \"png\";var comm_websocket_adapter = function(comm) {\n",
       "    // Create a \"websocket\"-like object which calls the given IPython comm\n",
       "    // object with the appropriate methods. Currently this is a non binary\n",
       "    // socket, so there is still some room for performance tuning.\n",
       "    var ws = {};\n",
       "\n",
       "    ws.close = function() {\n",
       "        comm.close()\n",
       "    };\n",
       "    ws.send = function(m) {\n",
       "        //console.log('sending', m);\n",
       "        comm.send(m);\n",
       "    };\n",
       "    // Register the callback with on_msg.\n",
       "    comm.on_msg(function(msg) {\n",
       "        //console.log('receiving', msg['content']['data'], msg);\n",
       "        // Pass the mpl event to the overriden (by mpl) onmessage function.\n",
       "        ws.onmessage(msg['content']['data'])\n",
       "    });\n",
       "    return ws;\n",
       "}\n",
       "\n",
       "mpl.mpl_figure_comm = function(comm, msg) {\n",
       "    // This is the function which gets called when the mpl process\n",
       "    // starts-up an IPython Comm through the \"matplotlib\" channel.\n",
       "\n",
       "    var id = msg.content.data.id;\n",
       "    // Get hold of the div created by the display call when the Comm\n",
       "    // socket was opened in Python.\n",
       "    var element = $(\"#\" + id);\n",
       "    var ws_proxy = comm_websocket_adapter(comm)\n",
       "\n",
       "    function ondownload(figure, format) {\n",
       "        window.open(figure.imageObj.src);\n",
       "    }\n",
       "\n",
       "    var fig = new mpl.figure(id, ws_proxy,\n",
       "                           ondownload,\n",
       "                           element.get(0));\n",
       "\n",
       "    // Call onopen now - mpl needs it, as it is assuming we've passed it a real\n",
       "    // web socket which is closed, not our websocket->open comm proxy.\n",
       "    ws_proxy.onopen();\n",
       "\n",
       "    fig.parent_element = element.get(0);\n",
       "    fig.cell_info = mpl.find_output_cell(\"<div id='\" + id + \"'></div>\");\n",
       "    if (!fig.cell_info) {\n",
       "        console.error(\"Failed to find cell for figure\", id, fig);\n",
       "        return;\n",
       "    }\n",
       "\n",
       "    var output_index = fig.cell_info[2]\n",
       "    var cell = fig.cell_info[0];\n",
       "\n",
       "};\n",
       "\n",
       "mpl.figure.prototype.handle_close = function(fig, msg) {\n",
       "    fig.root.unbind('remove')\n",
       "\n",
       "    // Update the output cell to use the data from the current canvas.\n",
       "    fig.push_to_output();\n",
       "    var dataURL = fig.canvas.toDataURL();\n",
       "    // Re-enable the keyboard manager in IPython - without this line, in FF,\n",
       "    // the notebook keyboard shortcuts fail.\n",
       "    IPython.keyboard_manager.enable()\n",
       "    $(fig.parent_element).html('<img src=\"' + dataURL + '\">');\n",
       "    fig.close_ws(fig, msg);\n",
       "}\n",
       "\n",
       "mpl.figure.prototype.close_ws = function(fig, msg){\n",
       "    fig.send_message('closing', msg);\n",
       "    // fig.ws.close()\n",
       "}\n",
       "\n",
       "mpl.figure.prototype.push_to_output = function(remove_interactive) {\n",
       "    // Turn the data on the canvas into data in the output cell.\n",
       "    var dataURL = this.canvas.toDataURL();\n",
       "    this.cell_info[1]['text/html'] = '<img src=\"' + dataURL + '\">';\n",
       "}\n",
       "\n",
       "mpl.figure.prototype.updated_canvas_event = function() {\n",
       "    // Tell IPython that the notebook contents must change.\n",
       "    IPython.notebook.set_dirty(true);\n",
       "    this.send_message(\"ack\", {});\n",
       "    var fig = this;\n",
       "    // Wait a second, then push the new image to the DOM so\n",
       "    // that it is saved nicely (might be nice to debounce this).\n",
       "    setTimeout(function () { fig.push_to_output() }, 1000);\n",
       "}\n",
       "\n",
       "mpl.figure.prototype._init_toolbar = function() {\n",
       "    var fig = this;\n",
       "\n",
       "    var nav_element = $('<div/>')\n",
       "    nav_element.attr('style', 'width: 100%');\n",
       "    this.root.append(nav_element);\n",
       "\n",
       "    // Define a callback function for later on.\n",
       "    function toolbar_event(event) {\n",
       "        return fig.toolbar_button_onclick(event['data']);\n",
       "    }\n",
       "    function toolbar_mouse_event(event) {\n",
       "        return fig.toolbar_button_onmouseover(event['data']);\n",
       "    }\n",
       "\n",
       "    for(var toolbar_ind in mpl.toolbar_items){\n",
       "        var name = mpl.toolbar_items[toolbar_ind][0];\n",
       "        var tooltip = mpl.toolbar_items[toolbar_ind][1];\n",
       "        var image = mpl.toolbar_items[toolbar_ind][2];\n",
       "        var method_name = mpl.toolbar_items[toolbar_ind][3];\n",
       "\n",
       "        if (!name) { continue; };\n",
       "\n",
       "        var button = $('<button class=\"btn btn-default\" href=\"#\" title=\"' + name + '\"><i class=\"fa ' + image + ' fa-lg\"></i></button>');\n",
       "        button.click(method_name, toolbar_event);\n",
       "        button.mouseover(tooltip, toolbar_mouse_event);\n",
       "        nav_element.append(button);\n",
       "    }\n",
       "\n",
       "    // Add the status bar.\n",
       "    var status_bar = $('<span class=\"mpl-message\" style=\"text-align:right; float: right;\"/>');\n",
       "    nav_element.append(status_bar);\n",
       "    this.message = status_bar[0];\n",
       "\n",
       "    // Add the close button to the window.\n",
       "    var buttongrp = $('<div class=\"btn-group inline pull-right\"></div>');\n",
       "    var button = $('<button class=\"btn btn-mini btn-primary\" href=\"#\" title=\"Stop Interaction\"><i class=\"fa fa-power-off icon-remove icon-large\"></i></button>');\n",
       "    button.click(function (evt) { fig.handle_close(fig, {}); } );\n",
       "    button.mouseover('Stop Interaction', toolbar_mouse_event);\n",
       "    buttongrp.append(button);\n",
       "    var titlebar = this.root.find($('.ui-dialog-titlebar'));\n",
       "    titlebar.prepend(buttongrp);\n",
       "}\n",
       "\n",
       "mpl.figure.prototype._root_extra_style = function(el){\n",
       "    var fig = this\n",
       "    el.on(\"remove\", function(){\n",
       "\tfig.close_ws(fig, {});\n",
       "    });\n",
       "}\n",
       "\n",
       "mpl.figure.prototype._canvas_extra_style = function(el){\n",
       "    // this is important to make the div 'focusable\n",
       "    el.attr('tabindex', 0)\n",
       "    // reach out to IPython and tell the keyboard manager to turn it's self\n",
       "    // off when our div gets focus\n",
       "\n",
       "    // location in version 3\n",
       "    if (IPython.notebook.keyboard_manager) {\n",
       "        IPython.notebook.keyboard_manager.register_events(el);\n",
       "    }\n",
       "    else {\n",
       "        // location in version 2\n",
       "        IPython.keyboard_manager.register_events(el);\n",
       "    }\n",
       "\n",
       "}\n",
       "\n",
       "mpl.figure.prototype._key_event_extra = function(event, name) {\n",
       "    var manager = IPython.notebook.keyboard_manager;\n",
       "    if (!manager)\n",
       "        manager = IPython.keyboard_manager;\n",
       "\n",
       "    // Check for shift+enter\n",
       "    if (event.shiftKey && event.which == 13) {\n",
       "        this.canvas_div.blur();\n",
       "        event.shiftKey = false;\n",
       "        // Send a \"J\" for go to next cell\n",
       "        event.which = 74;\n",
       "        event.keyCode = 74;\n",
       "        manager.command_mode();\n",
       "        manager.handle_keydown(event);\n",
       "    }\n",
       "}\n",
       "\n",
       "mpl.figure.prototype.handle_save = function(fig, msg) {\n",
       "    fig.ondownload(fig, null);\n",
       "}\n",
       "\n",
       "\n",
       "mpl.find_output_cell = function(html_output) {\n",
       "    // Return the cell and output element which can be found *uniquely* in the notebook.\n",
       "    // Note - this is a bit hacky, but it is done because the \"notebook_saving.Notebook\"\n",
       "    // IPython event is triggered only after the cells have been serialised, which for\n",
       "    // our purposes (turning an active figure into a static one), is too late.\n",
       "    var cells = IPython.notebook.get_cells();\n",
       "    var ncells = cells.length;\n",
       "    for (var i=0; i<ncells; i++) {\n",
       "        var cell = cells[i];\n",
       "        if (cell.cell_type === 'code'){\n",
       "            for (var j=0; j<cell.output_area.outputs.length; j++) {\n",
       "                var data = cell.output_area.outputs[j];\n",
       "                if (data.data) {\n",
       "                    // IPython >= 3 moved mimebundle to data attribute of output\n",
       "                    data = data.data;\n",
       "                }\n",
       "                if (data['text/html'] == html_output) {\n",
       "                    return [cell, data, j];\n",
       "                }\n",
       "            }\n",
       "        }\n",
       "    }\n",
       "}\n",
       "\n",
       "// Register the function which deals with the matplotlib target/channel.\n",
       "// The kernel may be null if the page has been refreshed.\n",
       "if (IPython.notebook.kernel != null) {\n",
       "    IPython.notebook.kernel.comm_manager.register_target('matplotlib', mpl.mpl_figure_comm);\n",
       "}\n"
      ],
      "text/plain": [
       "<IPython.core.display.Javascript object>"
      ]
     },
     "metadata": {},
     "output_type": "display_data"
    },
    {
     "data": {
      "text/html": [
       "<img src=\"data:image/png;base64,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\">"
      ],
      "text/plain": [
       "<IPython.core.display.HTML object>"
      ]
     },
     "metadata": {},
     "output_type": "display_data"
    }
   ],
   "source": [
    "# plot\n",
    "\n",
    "H.plot(hh.load(\"./slice_0K0.h5\"), min=0, max=1e-5)"
   ]
  },
  {
   "cell_type": "code",
   "execution_count": null,
   "metadata": {
    "collapsed": true
   },
   "outputs": [],
   "source": [
    "# try a smaller range"
   ]
  },
  {
   "cell_type": "code",
   "execution_count": 47,
   "metadata": {
    "collapsed": false
   },
   "outputs": [
    {
     "name": "stdout",
     "output_type": "stream",
     "text": [
      "Writing slice_0K0_-2,2.yml\n"
     ]
    }
   ],
   "source": [
    "%%file slice_0K0_-2,2.yml\n",
    "\n",
    "angles: -90,90.1,3.0\n",
    "filename_pattern: work_%(angle)s/reduced_%(angle)s.nxs\n",
    "lattice: 2., 2.5, 3., 90, 90, 90\n",
    "orientation:\n",
    " u: 1, 0, 2\n",
    " v: 1,0,0\n",
    "Eaxis:\n",
    " min: 0\n",
    " max: 90\n",
    " N: 181\n",
    "Q_projections:\n",
    " U:\n",
    "  proj: 0,1,0\n",
    "  proj_name: 0,K,0\n",
    "  min: -2\n",
    "  max: 2\n",
    "  N: 401\n",
    " V:\n",
    "  proj: 1,0,0\n",
    "  proj_name: H,0,0\n",
    "  min: -5\n",
    "  max: 5\n",
    "  N: 1\n",
    " W:\n",
    "  proj: 0,0,1\n",
    "  proj_name: 0,0,L\n",
    "  min: -5\n",
    "  max: 5\n",
    "  N: 1\n",
    "output: slice_0K0_-2__2.nxs\n"
   ]
  },
  {
   "cell_type": "code",
   "execution_count": 49,
   "metadata": {
    "collapsed": false,
    "scrolled": true
   },
   "outputs": [],
   "source": [
    "! PYTHONPATH=$PWD:$PYTHONPATH ./scripts/reduce/getaslice.py slice_0K0_-2,2.yml > log.slice_0K0_-2,2"
   ]
  },
  {
   "cell_type": "code",
   "execution_count": 50,
   "metadata": {
    "collapsed": false
   },
   "outputs": [
    {
     "name": "stdout",
     "output_type": "stream",
     "text": [
      "FrameworkManager-[Notice] Welcome to Mantid 3.6.100\n",
      "FrameworkManager-[Notice] Please cite: http://dx.doi.org/10.1016/j.nima.2014.07.029 and this release: http://dx.doi.org/10.5286/Software/Mantid3.6.100\n",
      "Load-[Notice] Load started\n",
      "Load-[Notice] Load successful, Duration 1.22 seconds\n"
     ]
    }
   ],
   "source": [
    "!./scripts/reduce/slice2hist.py \"slice_0K0_-2__2.nxs\" slice_0K0_-2,2.h5"
   ]
  },
  {
   "cell_type": "code",
   "execution_count": 51,
   "metadata": {
    "collapsed": false
   },
   "outputs": [
    {
     "name": "stdout",
     "output_type": "stream",
     "text": [
      "plot z in (0, 1e-05)\n"
     ]
    },
    {
     "data": {
      "application/javascript": [
       "/* Put everything inside the global mpl namespace */\n",
       "window.mpl = {};\n",
       "\n",
       "mpl.get_websocket_type = function() {\n",
       "    if (typeof(WebSocket) !== 'undefined') {\n",
       "        return WebSocket;\n",
       "    } else if (typeof(MozWebSocket) !== 'undefined') {\n",
       "        return MozWebSocket;\n",
       "    } else {\n",
       "        alert('Your browser does not have WebSocket support.' +\n",
       "              'Please try Chrome, Safari or Firefox ≥ 6. ' +\n",
       "              'Firefox 4 and 5 are also supported but you ' +\n",
       "              'have to enable WebSockets in about:config.');\n",
       "    };\n",
       "}\n",
       "\n",
       "mpl.figure = function(figure_id, websocket, ondownload, parent_element) {\n",
       "    this.id = figure_id;\n",
       "\n",
       "    this.ws = websocket;\n",
       "\n",
       "    this.supports_binary = (this.ws.binaryType != undefined);\n",
       "\n",
       "    if (!this.supports_binary) {\n",
       "        var warnings = document.getElementById(\"mpl-warnings\");\n",
       "        if (warnings) {\n",
       "            warnings.style.display = 'block';\n",
       "            warnings.textContent = (\n",
       "                \"This browser does not support binary websocket messages. \" +\n",
       "                    \"Performance may be slow.\");\n",
       "        }\n",
       "    }\n",
       "\n",
       "    this.imageObj = new Image();\n",
       "\n",
       "    this.context = undefined;\n",
       "    this.message = undefined;\n",
       "    this.canvas = undefined;\n",
       "    this.rubberband_canvas = undefined;\n",
       "    this.rubberband_context = undefined;\n",
       "    this.format_dropdown = undefined;\n",
       "\n",
       "    this.image_mode = 'full';\n",
       "\n",
       "    this.root = $('<div/>');\n",
       "    this._root_extra_style(this.root)\n",
       "    this.root.attr('style', 'display: inline-block');\n",
       "\n",
       "    $(parent_element).append(this.root);\n",
       "\n",
       "    this._init_header(this);\n",
       "    this._init_canvas(this);\n",
       "    this._init_toolbar(this);\n",
       "\n",
       "    var fig = this;\n",
       "\n",
       "    this.waiting = false;\n",
       "\n",
       "    this.ws.onopen =  function () {\n",
       "            fig.send_message(\"supports_binary\", {value: fig.supports_binary});\n",
       "            fig.send_message(\"send_image_mode\", {});\n",
       "            fig.send_message(\"refresh\", {});\n",
       "        }\n",
       "\n",
       "    this.imageObj.onload = function() {\n",
       "            if (fig.image_mode == 'full') {\n",
       "                // Full images could contain transparency (where diff images\n",
       "                // almost always do), so we need to clear the canvas so that\n",
       "                // there is no ghosting.\n",
       "                fig.context.clearRect(0, 0, fig.canvas.width, fig.canvas.height);\n",
       "            }\n",
       "            fig.context.drawImage(fig.imageObj, 0, 0);\n",
       "        };\n",
       "\n",
       "    this.imageObj.onunload = function() {\n",
       "        this.ws.close();\n",
       "    }\n",
       "\n",
       "    this.ws.onmessage = this._make_on_message_function(this);\n",
       "\n",
       "    this.ondownload = ondownload;\n",
       "}\n",
       "\n",
       "mpl.figure.prototype._init_header = function() {\n",
       "    var titlebar = $(\n",
       "        '<div class=\"ui-dialog-titlebar ui-widget-header ui-corner-all ' +\n",
       "        'ui-helper-clearfix\"/>');\n",
       "    var titletext = $(\n",
       "        '<div class=\"ui-dialog-title\" style=\"width: 100%; ' +\n",
       "        'text-align: center; padding: 3px;\"/>');\n",
       "    titlebar.append(titletext)\n",
       "    this.root.append(titlebar);\n",
       "    this.header = titletext[0];\n",
       "}\n",
       "\n",
       "\n",
       "\n",
       "mpl.figure.prototype._canvas_extra_style = function(canvas_div) {\n",
       "\n",
       "}\n",
       "\n",
       "\n",
       "mpl.figure.prototype._root_extra_style = function(canvas_div) {\n",
       "\n",
       "}\n",
       "\n",
       "mpl.figure.prototype._init_canvas = function() {\n",
       "    var fig = this;\n",
       "\n",
       "    var canvas_div = $('<div/>');\n",
       "\n",
       "    canvas_div.attr('style', 'position: relative; clear: both; outline: 0');\n",
       "\n",
       "    function canvas_keyboard_event(event) {\n",
       "        return fig.key_event(event, event['data']);\n",
       "    }\n",
       "\n",
       "    canvas_div.keydown('key_press', canvas_keyboard_event);\n",
       "    canvas_div.keyup('key_release', canvas_keyboard_event);\n",
       "    this.canvas_div = canvas_div\n",
       "    this._canvas_extra_style(canvas_div)\n",
       "    this.root.append(canvas_div);\n",
       "\n",
       "    var canvas = $('<canvas/>');\n",
       "    canvas.addClass('mpl-canvas');\n",
       "    canvas.attr('style', \"left: 0; top: 0; z-index: 0; outline: 0\")\n",
       "\n",
       "    this.canvas = canvas[0];\n",
       "    this.context = canvas[0].getContext(\"2d\");\n",
       "\n",
       "    var rubberband = $('<canvas/>');\n",
       "    rubberband.attr('style', \"position: absolute; left: 0; top: 0; z-index: 1;\")\n",
       "\n",
       "    var pass_mouse_events = true;\n",
       "\n",
       "    canvas_div.resizable({\n",
       "        start: function(event, ui) {\n",
       "            pass_mouse_events = false;\n",
       "        },\n",
       "        resize: function(event, ui) {\n",
       "            fig.request_resize(ui.size.width, ui.size.height);\n",
       "        },\n",
       "        stop: function(event, ui) {\n",
       "            pass_mouse_events = true;\n",
       "            fig.request_resize(ui.size.width, ui.size.height);\n",
       "        },\n",
       "    });\n",
       "\n",
       "    function mouse_event_fn(event) {\n",
       "        if (pass_mouse_events)\n",
       "            return fig.mouse_event(event, event['data']);\n",
       "    }\n",
       "\n",
       "    rubberband.mousedown('button_press', mouse_event_fn);\n",
       "    rubberband.mouseup('button_release', mouse_event_fn);\n",
       "    // Throttle sequential mouse events to 1 every 20ms.\n",
       "    rubberband.mousemove('motion_notify', mouse_event_fn);\n",
       "\n",
       "    rubberband.mouseenter('figure_enter', mouse_event_fn);\n",
       "    rubberband.mouseleave('figure_leave', mouse_event_fn);\n",
       "\n",
       "    canvas_div.on(\"wheel\", function (event) {\n",
       "        event = event.originalEvent;\n",
       "        event['data'] = 'scroll'\n",
       "        if (event.deltaY < 0) {\n",
       "            event.step = 1;\n",
       "        } else {\n",
       "            event.step = -1;\n",
       "        }\n",
       "        mouse_event_fn(event);\n",
       "    });\n",
       "\n",
       "    canvas_div.append(canvas);\n",
       "    canvas_div.append(rubberband);\n",
       "\n",
       "    this.rubberband = rubberband;\n",
       "    this.rubberband_canvas = rubberband[0];\n",
       "    this.rubberband_context = rubberband[0].getContext(\"2d\");\n",
       "    this.rubberband_context.strokeStyle = \"#000000\";\n",
       "\n",
       "    this._resize_canvas = function(width, height) {\n",
       "        // Keep the size of the canvas, canvas container, and rubber band\n",
       "        // canvas in synch.\n",
       "        canvas_div.css('width', width)\n",
       "        canvas_div.css('height', height)\n",
       "\n",
       "        canvas.attr('width', width);\n",
       "        canvas.attr('height', height);\n",
       "\n",
       "        rubberband.attr('width', width);\n",
       "        rubberband.attr('height', height);\n",
       "    }\n",
       "\n",
       "    // Set the figure to an initial 600x600px, this will subsequently be updated\n",
       "    // upon first draw.\n",
       "    this._resize_canvas(600, 600);\n",
       "\n",
       "    // Disable right mouse context menu.\n",
       "    $(this.rubberband_canvas).bind(\"contextmenu\",function(e){\n",
       "        return false;\n",
       "    });\n",
       "\n",
       "    function set_focus () {\n",
       "        canvas.focus();\n",
       "        canvas_div.focus();\n",
       "    }\n",
       "\n",
       "    window.setTimeout(set_focus, 100);\n",
       "}\n",
       "\n",
       "mpl.figure.prototype._init_toolbar = function() {\n",
       "    var fig = this;\n",
       "\n",
       "    var nav_element = $('<div/>')\n",
       "    nav_element.attr('style', 'width: 100%');\n",
       "    this.root.append(nav_element);\n",
       "\n",
       "    // Define a callback function for later on.\n",
       "    function toolbar_event(event) {\n",
       "        return fig.toolbar_button_onclick(event['data']);\n",
       "    }\n",
       "    function toolbar_mouse_event(event) {\n",
       "        return fig.toolbar_button_onmouseover(event['data']);\n",
       "    }\n",
       "\n",
       "    for(var toolbar_ind in mpl.toolbar_items) {\n",
       "        var name = mpl.toolbar_items[toolbar_ind][0];\n",
       "        var tooltip = mpl.toolbar_items[toolbar_ind][1];\n",
       "        var image = mpl.toolbar_items[toolbar_ind][2];\n",
       "        var method_name = mpl.toolbar_items[toolbar_ind][3];\n",
       "\n",
       "        if (!name) {\n",
       "            // put a spacer in here.\n",
       "            continue;\n",
       "        }\n",
       "        var button = $('<button/>');\n",
       "        button.addClass('ui-button ui-widget ui-state-default ui-corner-all ' +\n",
       "                        'ui-button-icon-only');\n",
       "        button.attr('role', 'button');\n",
       "        button.attr('aria-disabled', 'false');\n",
       "        button.click(method_name, toolbar_event);\n",
       "        button.mouseover(tooltip, toolbar_mouse_event);\n",
       "\n",
       "        var icon_img = $('<span/>');\n",
       "        icon_img.addClass('ui-button-icon-primary ui-icon');\n",
       "        icon_img.addClass(image);\n",
       "        icon_img.addClass('ui-corner-all');\n",
       "\n",
       "        var tooltip_span = $('<span/>');\n",
       "        tooltip_span.addClass('ui-button-text');\n",
       "        tooltip_span.html(tooltip);\n",
       "\n",
       "        button.append(icon_img);\n",
       "        button.append(tooltip_span);\n",
       "\n",
       "        nav_element.append(button);\n",
       "    }\n",
       "\n",
       "    var fmt_picker_span = $('<span/>');\n",
       "\n",
       "    var fmt_picker = $('<select/>');\n",
       "    fmt_picker.addClass('mpl-toolbar-option ui-widget ui-widget-content');\n",
       "    fmt_picker_span.append(fmt_picker);\n",
       "    nav_element.append(fmt_picker_span);\n",
       "    this.format_dropdown = fmt_picker[0];\n",
       "\n",
       "    for (var ind in mpl.extensions) {\n",
       "        var fmt = mpl.extensions[ind];\n",
       "        var option = $(\n",
       "            '<option/>', {selected: fmt === mpl.default_extension}).html(fmt);\n",
       "        fmt_picker.append(option)\n",
       "    }\n",
       "\n",
       "    // Add hover states to the ui-buttons\n",
       "    $( \".ui-button\" ).hover(\n",
       "        function() { $(this).addClass(\"ui-state-hover\");},\n",
       "        function() { $(this).removeClass(\"ui-state-hover\");}\n",
       "    );\n",
       "\n",
       "    var status_bar = $('<span class=\"mpl-message\"/>');\n",
       "    nav_element.append(status_bar);\n",
       "    this.message = status_bar[0];\n",
       "}\n",
       "\n",
       "mpl.figure.prototype.request_resize = function(x_pixels, y_pixels) {\n",
       "    // Request matplotlib to resize the figure. Matplotlib will then trigger a resize in the client,\n",
       "    // which will in turn request a refresh of the image.\n",
       "    this.send_message('resize', {'width': x_pixels, 'height': y_pixels});\n",
       "}\n",
       "\n",
       "mpl.figure.prototype.send_message = function(type, properties) {\n",
       "    properties['type'] = type;\n",
       "    properties['figure_id'] = this.id;\n",
       "    this.ws.send(JSON.stringify(properties));\n",
       "}\n",
       "\n",
       "mpl.figure.prototype.send_draw_message = function() {\n",
       "    if (!this.waiting) {\n",
       "        this.waiting = true;\n",
       "        this.ws.send(JSON.stringify({type: \"draw\", figure_id: this.id}));\n",
       "    }\n",
       "}\n",
       "\n",
       "\n",
       "mpl.figure.prototype.handle_save = function(fig, msg) {\n",
       "    var format_dropdown = fig.format_dropdown;\n",
       "    var format = format_dropdown.options[format_dropdown.selectedIndex].value;\n",
       "    fig.ondownload(fig, format);\n",
       "}\n",
       "\n",
       "\n",
       "mpl.figure.prototype.handle_resize = function(fig, msg) {\n",
       "    var size = msg['size'];\n",
       "    if (size[0] != fig.canvas.width || size[1] != fig.canvas.height) {\n",
       "        fig._resize_canvas(size[0], size[1]);\n",
       "        fig.send_message(\"refresh\", {});\n",
       "    };\n",
       "}\n",
       "\n",
       "mpl.figure.prototype.handle_rubberband = function(fig, msg) {\n",
       "    var x0 = msg['x0'];\n",
       "    var y0 = fig.canvas.height - msg['y0'];\n",
       "    var x1 = msg['x1'];\n",
       "    var y1 = fig.canvas.height - msg['y1'];\n",
       "    x0 = Math.floor(x0) + 0.5;\n",
       "    y0 = Math.floor(y0) + 0.5;\n",
       "    x1 = Math.floor(x1) + 0.5;\n",
       "    y1 = Math.floor(y1) + 0.5;\n",
       "    var min_x = Math.min(x0, x1);\n",
       "    var min_y = Math.min(y0, y1);\n",
       "    var width = Math.abs(x1 - x0);\n",
       "    var height = Math.abs(y1 - y0);\n",
       "\n",
       "    fig.rubberband_context.clearRect(\n",
       "        0, 0, fig.canvas.width, fig.canvas.height);\n",
       "\n",
       "    fig.rubberband_context.strokeRect(min_x, min_y, width, height);\n",
       "}\n",
       "\n",
       "mpl.figure.prototype.handle_figure_label = function(fig, msg) {\n",
       "    // Updates the figure title.\n",
       "    fig.header.textContent = msg['label'];\n",
       "}\n",
       "\n",
       "mpl.figure.prototype.handle_cursor = function(fig, msg) {\n",
       "    var cursor = msg['cursor'];\n",
       "    switch(cursor)\n",
       "    {\n",
       "    case 0:\n",
       "        cursor = 'pointer';\n",
       "        break;\n",
       "    case 1:\n",
       "        cursor = 'default';\n",
       "        break;\n",
       "    case 2:\n",
       "        cursor = 'crosshair';\n",
       "        break;\n",
       "    case 3:\n",
       "        cursor = 'move';\n",
       "        break;\n",
       "    }\n",
       "    fig.rubberband_canvas.style.cursor = cursor;\n",
       "}\n",
       "\n",
       "mpl.figure.prototype.handle_message = function(fig, msg) {\n",
       "    fig.message.textContent = msg['message'];\n",
       "}\n",
       "\n",
       "mpl.figure.prototype.handle_draw = function(fig, msg) {\n",
       "    // Request the server to send over a new figure.\n",
       "    fig.send_draw_message();\n",
       "}\n",
       "\n",
       "mpl.figure.prototype.handle_image_mode = function(fig, msg) {\n",
       "    fig.image_mode = msg['mode'];\n",
       "}\n",
       "\n",
       "mpl.figure.prototype.updated_canvas_event = function() {\n",
       "    // Called whenever the canvas gets updated.\n",
       "    this.send_message(\"ack\", {});\n",
       "}\n",
       "\n",
       "// A function to construct a web socket function for onmessage handling.\n",
       "// Called in the figure constructor.\n",
       "mpl.figure.prototype._make_on_message_function = function(fig) {\n",
       "    return function socket_on_message(evt) {\n",
       "        if (evt.data instanceof Blob) {\n",
       "            /* FIXME: We get \"Resource interpreted as Image but\n",
       "             * transferred with MIME type text/plain:\" errors on\n",
       "             * Chrome.  But how to set the MIME type?  It doesn't seem\n",
       "             * to be part of the websocket stream */\n",
       "            evt.data.type = \"image/png\";\n",
       "\n",
       "            /* Free the memory for the previous frames */\n",
       "            if (fig.imageObj.src) {\n",
       "                (window.URL || window.webkitURL).revokeObjectURL(\n",
       "                    fig.imageObj.src);\n",
       "            }\n",
       "\n",
       "            fig.imageObj.src = (window.URL || window.webkitURL).createObjectURL(\n",
       "                evt.data);\n",
       "            fig.updated_canvas_event();\n",
       "            fig.waiting = false;\n",
       "            return;\n",
       "        }\n",
       "        else if (typeof evt.data === 'string' && evt.data.slice(0, 21) == \"data:image/png;base64\") {\n",
       "            fig.imageObj.src = evt.data;\n",
       "            fig.updated_canvas_event();\n",
       "            fig.waiting = false;\n",
       "            return;\n",
       "        }\n",
       "\n",
       "        var msg = JSON.parse(evt.data);\n",
       "        var msg_type = msg['type'];\n",
       "\n",
       "        // Call the  \"handle_{type}\" callback, which takes\n",
       "        // the figure and JSON message as its only arguments.\n",
       "        try {\n",
       "            var callback = fig[\"handle_\" + msg_type];\n",
       "        } catch (e) {\n",
       "            console.log(\"No handler for the '\" + msg_type + \"' message type: \", msg);\n",
       "            return;\n",
       "        }\n",
       "\n",
       "        if (callback) {\n",
       "            try {\n",
       "                // console.log(\"Handling '\" + msg_type + \"' message: \", msg);\n",
       "                callback(fig, msg);\n",
       "            } catch (e) {\n",
       "                console.log(\"Exception inside the 'handler_\" + msg_type + \"' callback:\", e, e.stack, msg);\n",
       "            }\n",
       "        }\n",
       "    };\n",
       "}\n",
       "\n",
       "// from http://stackoverflow.com/questions/1114465/getting-mouse-location-in-canvas\n",
       "mpl.findpos = function(e) {\n",
       "    //this section is from http://www.quirksmode.org/js/events_properties.html\n",
       "    var targ;\n",
       "    if (!e)\n",
       "        e = window.event;\n",
       "    if (e.target)\n",
       "        targ = e.target;\n",
       "    else if (e.srcElement)\n",
       "        targ = e.srcElement;\n",
       "    if (targ.nodeType == 3) // defeat Safari bug\n",
       "        targ = targ.parentNode;\n",
       "\n",
       "    // jQuery normalizes the pageX and pageY\n",
       "    // pageX,Y are the mouse positions relative to the document\n",
       "    // offset() returns the position of the element relative to the document\n",
       "    var x = e.pageX - $(targ).offset().left;\n",
       "    var y = e.pageY - $(targ).offset().top;\n",
       "\n",
       "    return {\"x\": x, \"y\": y};\n",
       "};\n",
       "\n",
       "/*\n",
       " * return a copy of an object with only non-object keys\n",
       " * we need this to avoid circular references\n",
       " * http://stackoverflow.com/a/24161582/3208463\n",
       " */\n",
       "function simpleKeys (original) {\n",
       "  return Object.keys(original).reduce(function (obj, key) {\n",
       "    if (typeof original[key] !== 'object')\n",
       "        obj[key] = original[key]\n",
       "    return obj;\n",
       "  }, {});\n",
       "}\n",
       "\n",
       "mpl.figure.prototype.mouse_event = function(event, name) {\n",
       "    var canvas_pos = mpl.findpos(event)\n",
       "\n",
       "    if (name === 'button_press')\n",
       "    {\n",
       "        this.canvas.focus();\n",
       "        this.canvas_div.focus();\n",
       "    }\n",
       "\n",
       "    var x = canvas_pos.x;\n",
       "    var y = canvas_pos.y;\n",
       "\n",
       "    this.send_message(name, {x: x, y: y, button: event.button,\n",
       "                             step: event.step,\n",
       "                             guiEvent: simpleKeys(event)});\n",
       "\n",
       "    /* This prevents the web browser from automatically changing to\n",
       "     * the text insertion cursor when the button is pressed.  We want\n",
       "     * to control all of the cursor setting manually through the\n",
       "     * 'cursor' event from matplotlib */\n",
       "    event.preventDefault();\n",
       "    return false;\n",
       "}\n",
       "\n",
       "mpl.figure.prototype._key_event_extra = function(event, name) {\n",
       "    // Handle any extra behaviour associated with a key event\n",
       "}\n",
       "\n",
       "mpl.figure.prototype.key_event = function(event, name) {\n",
       "\n",
       "    // Prevent repeat events\n",
       "    if (name == 'key_press')\n",
       "    {\n",
       "        if (event.which === this._key)\n",
       "            return;\n",
       "        else\n",
       "            this._key = event.which;\n",
       "    }\n",
       "    if (name == 'key_release')\n",
       "        this._key = null;\n",
       "\n",
       "    var value = '';\n",
       "    if (event.ctrlKey && event.which != 17)\n",
       "        value += \"ctrl+\";\n",
       "    if (event.altKey && event.which != 18)\n",
       "        value += \"alt+\";\n",
       "    if (event.shiftKey && event.which != 16)\n",
       "        value += \"shift+\";\n",
       "\n",
       "    value += 'k';\n",
       "    value += event.which.toString();\n",
       "\n",
       "    this._key_event_extra(event, name);\n",
       "\n",
       "    this.send_message(name, {key: value,\n",
       "                             guiEvent: simpleKeys(event)});\n",
       "    return false;\n",
       "}\n",
       "\n",
       "mpl.figure.prototype.toolbar_button_onclick = function(name) {\n",
       "    if (name == 'download') {\n",
       "        this.handle_save(this, null);\n",
       "    } else {\n",
       "        this.send_message(\"toolbar_button\", {name: name});\n",
       "    }\n",
       "};\n",
       "\n",
       "mpl.figure.prototype.toolbar_button_onmouseover = function(tooltip) {\n",
       "    this.message.textContent = tooltip;\n",
       "};\n",
       "mpl.toolbar_items = [[\"Home\", \"Reset original view\", \"fa fa-home icon-home\", \"home\"], [\"Back\", \"Back to  previous view\", \"fa fa-arrow-left icon-arrow-left\", \"back\"], [\"Forward\", \"Forward to next view\", \"fa fa-arrow-right icon-arrow-right\", \"forward\"], [\"\", \"\", \"\", \"\"], [\"Pan\", \"Pan axes with left mouse, zoom with right\", \"fa fa-arrows icon-move\", \"pan\"], [\"Zoom\", \"Zoom to rectangle\", \"fa fa-square-o icon-check-empty\", \"zoom\"], [\"\", \"\", \"\", \"\"], [\"Download\", \"Download plot\", \"fa fa-floppy-o icon-save\", \"download\"]];\n",
       "\n",
       "mpl.extensions = [\"eps\", \"pdf\", \"png\", \"ps\", \"raw\", \"svg\"];\n",
       "\n",
       "mpl.default_extension = \"png\";var comm_websocket_adapter = function(comm) {\n",
       "    // Create a \"websocket\"-like object which calls the given IPython comm\n",
       "    // object with the appropriate methods. Currently this is a non binary\n",
       "    // socket, so there is still some room for performance tuning.\n",
       "    var ws = {};\n",
       "\n",
       "    ws.close = function() {\n",
       "        comm.close()\n",
       "    };\n",
       "    ws.send = function(m) {\n",
       "        //console.log('sending', m);\n",
       "        comm.send(m);\n",
       "    };\n",
       "    // Register the callback with on_msg.\n",
       "    comm.on_msg(function(msg) {\n",
       "        //console.log('receiving', msg['content']['data'], msg);\n",
       "        // Pass the mpl event to the overriden (by mpl) onmessage function.\n",
       "        ws.onmessage(msg['content']['data'])\n",
       "    });\n",
       "    return ws;\n",
       "}\n",
       "\n",
       "mpl.mpl_figure_comm = function(comm, msg) {\n",
       "    // This is the function which gets called when the mpl process\n",
       "    // starts-up an IPython Comm through the \"matplotlib\" channel.\n",
       "\n",
       "    var id = msg.content.data.id;\n",
       "    // Get hold of the div created by the display call when the Comm\n",
       "    // socket was opened in Python.\n",
       "    var element = $(\"#\" + id);\n",
       "    var ws_proxy = comm_websocket_adapter(comm)\n",
       "\n",
       "    function ondownload(figure, format) {\n",
       "        window.open(figure.imageObj.src);\n",
       "    }\n",
       "\n",
       "    var fig = new mpl.figure(id, ws_proxy,\n",
       "                           ondownload,\n",
       "                           element.get(0));\n",
       "\n",
       "    // Call onopen now - mpl needs it, as it is assuming we've passed it a real\n",
       "    // web socket which is closed, not our websocket->open comm proxy.\n",
       "    ws_proxy.onopen();\n",
       "\n",
       "    fig.parent_element = element.get(0);\n",
       "    fig.cell_info = mpl.find_output_cell(\"<div id='\" + id + \"'></div>\");\n",
       "    if (!fig.cell_info) {\n",
       "        console.error(\"Failed to find cell for figure\", id, fig);\n",
       "        return;\n",
       "    }\n",
       "\n",
       "    var output_index = fig.cell_info[2]\n",
       "    var cell = fig.cell_info[0];\n",
       "\n",
       "};\n",
       "\n",
       "mpl.figure.prototype.handle_close = function(fig, msg) {\n",
       "    fig.root.unbind('remove')\n",
       "\n",
       "    // Update the output cell to use the data from the current canvas.\n",
       "    fig.push_to_output();\n",
       "    var dataURL = fig.canvas.toDataURL();\n",
       "    // Re-enable the keyboard manager in IPython - without this line, in FF,\n",
       "    // the notebook keyboard shortcuts fail.\n",
       "    IPython.keyboard_manager.enable()\n",
       "    $(fig.parent_element).html('<img src=\"' + dataURL + '\">');\n",
       "    fig.close_ws(fig, msg);\n",
       "}\n",
       "\n",
       "mpl.figure.prototype.close_ws = function(fig, msg){\n",
       "    fig.send_message('closing', msg);\n",
       "    // fig.ws.close()\n",
       "}\n",
       "\n",
       "mpl.figure.prototype.push_to_output = function(remove_interactive) {\n",
       "    // Turn the data on the canvas into data in the output cell.\n",
       "    var dataURL = this.canvas.toDataURL();\n",
       "    this.cell_info[1]['text/html'] = '<img src=\"' + dataURL + '\">';\n",
       "}\n",
       "\n",
       "mpl.figure.prototype.updated_canvas_event = function() {\n",
       "    // Tell IPython that the notebook contents must change.\n",
       "    IPython.notebook.set_dirty(true);\n",
       "    this.send_message(\"ack\", {});\n",
       "    var fig = this;\n",
       "    // Wait a second, then push the new image to the DOM so\n",
       "    // that it is saved nicely (might be nice to debounce this).\n",
       "    setTimeout(function () { fig.push_to_output() }, 1000);\n",
       "}\n",
       "\n",
       "mpl.figure.prototype._init_toolbar = function() {\n",
       "    var fig = this;\n",
       "\n",
       "    var nav_element = $('<div/>')\n",
       "    nav_element.attr('style', 'width: 100%');\n",
       "    this.root.append(nav_element);\n",
       "\n",
       "    // Define a callback function for later on.\n",
       "    function toolbar_event(event) {\n",
       "        return fig.toolbar_button_onclick(event['data']);\n",
       "    }\n",
       "    function toolbar_mouse_event(event) {\n",
       "        return fig.toolbar_button_onmouseover(event['data']);\n",
       "    }\n",
       "\n",
       "    for(var toolbar_ind in mpl.toolbar_items){\n",
       "        var name = mpl.toolbar_items[toolbar_ind][0];\n",
       "        var tooltip = mpl.toolbar_items[toolbar_ind][1];\n",
       "        var image = mpl.toolbar_items[toolbar_ind][2];\n",
       "        var method_name = mpl.toolbar_items[toolbar_ind][3];\n",
       "\n",
       "        if (!name) { continue; };\n",
       "\n",
       "        var button = $('<button class=\"btn btn-default\" href=\"#\" title=\"' + name + '\"><i class=\"fa ' + image + ' fa-lg\"></i></button>');\n",
       "        button.click(method_name, toolbar_event);\n",
       "        button.mouseover(tooltip, toolbar_mouse_event);\n",
       "        nav_element.append(button);\n",
       "    }\n",
       "\n",
       "    // Add the status bar.\n",
       "    var status_bar = $('<span class=\"mpl-message\" style=\"text-align:right; float: right;\"/>');\n",
       "    nav_element.append(status_bar);\n",
       "    this.message = status_bar[0];\n",
       "\n",
       "    // Add the close button to the window.\n",
       "    var buttongrp = $('<div class=\"btn-group inline pull-right\"></div>');\n",
       "    var button = $('<button class=\"btn btn-mini btn-primary\" href=\"#\" title=\"Stop Interaction\"><i class=\"fa fa-power-off icon-remove icon-large\"></i></button>');\n",
       "    button.click(function (evt) { fig.handle_close(fig, {}); } );\n",
       "    button.mouseover('Stop Interaction', toolbar_mouse_event);\n",
       "    buttongrp.append(button);\n",
       "    var titlebar = this.root.find($('.ui-dialog-titlebar'));\n",
       "    titlebar.prepend(buttongrp);\n",
       "}\n",
       "\n",
       "mpl.figure.prototype._root_extra_style = function(el){\n",
       "    var fig = this\n",
       "    el.on(\"remove\", function(){\n",
       "\tfig.close_ws(fig, {});\n",
       "    });\n",
       "}\n",
       "\n",
       "mpl.figure.prototype._canvas_extra_style = function(el){\n",
       "    // this is important to make the div 'focusable\n",
       "    el.attr('tabindex', 0)\n",
       "    // reach out to IPython and tell the keyboard manager to turn it's self\n",
       "    // off when our div gets focus\n",
       "\n",
       "    // location in version 3\n",
       "    if (IPython.notebook.keyboard_manager) {\n",
       "        IPython.notebook.keyboard_manager.register_events(el);\n",
       "    }\n",
       "    else {\n",
       "        // location in version 2\n",
       "        IPython.keyboard_manager.register_events(el);\n",
       "    }\n",
       "\n",
       "}\n",
       "\n",
       "mpl.figure.prototype._key_event_extra = function(event, name) {\n",
       "    var manager = IPython.notebook.keyboard_manager;\n",
       "    if (!manager)\n",
       "        manager = IPython.keyboard_manager;\n",
       "\n",
       "    // Check for shift+enter\n",
       "    if (event.shiftKey && event.which == 13) {\n",
       "        this.canvas_div.blur();\n",
       "        event.shiftKey = false;\n",
       "        // Send a \"J\" for go to next cell\n",
       "        event.which = 74;\n",
       "        event.keyCode = 74;\n",
       "        manager.command_mode();\n",
       "        manager.handle_keydown(event);\n",
       "    }\n",
       "}\n",
       "\n",
       "mpl.figure.prototype.handle_save = function(fig, msg) {\n",
       "    fig.ondownload(fig, null);\n",
       "}\n",
       "\n",
       "\n",
       "mpl.find_output_cell = function(html_output) {\n",
       "    // Return the cell and output element which can be found *uniquely* in the notebook.\n",
       "    // Note - this is a bit hacky, but it is done because the \"notebook_saving.Notebook\"\n",
       "    // IPython event is triggered only after the cells have been serialised, which for\n",
       "    // our purposes (turning an active figure into a static one), is too late.\n",
       "    var cells = IPython.notebook.get_cells();\n",
       "    var ncells = cells.length;\n",
       "    for (var i=0; i<ncells; i++) {\n",
       "        var cell = cells[i];\n",
       "        if (cell.cell_type === 'code'){\n",
       "            for (var j=0; j<cell.output_area.outputs.length; j++) {\n",
       "                var data = cell.output_area.outputs[j];\n",
       "                if (data.data) {\n",
       "                    // IPython >= 3 moved mimebundle to data attribute of output\n",
       "                    data = data.data;\n",
       "                }\n",
       "                if (data['text/html'] == html_output) {\n",
       "                    return [cell, data, j];\n",
       "                }\n",
       "            }\n",
       "        }\n",
       "    }\n",
       "}\n",
       "\n",
       "// Register the function which deals with the matplotlib target/channel.\n",
       "// The kernel may be null if the page has been refreshed.\n",
       "if (IPython.notebook.kernel != null) {\n",
       "    IPython.notebook.kernel.comm_manager.register_target('matplotlib', mpl.mpl_figure_comm);\n",
       "}\n"
      ],
      "text/plain": [
       "<IPython.core.display.Javascript object>"
      ]
     },
     "metadata": {},
     "output_type": "display_data"
    },
    {
     "data": {
      "text/html": [
       "<img src=\"data:image/png;base64,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\">"
      ],
      "text/plain": [
       "<IPython.core.display.HTML object>"
      ]
     },
     "metadata": {},
     "output_type": "display_data"
    }
   ],
   "source": [
    "H.plot(hh.load(\"./slice_0K0_-2,2.h5\"), min=0, max=1e-5)"
   ]
  },
  {
   "cell_type": "code",
   "execution_count": null,
   "metadata": {
    "collapsed": true
   },
   "outputs": [],
   "source": []
  }
 ],
 "metadata": {
  "kernelspec": {
   "display_name": "Python 2",
   "language": "python",
   "name": "python2"
  },
  "language_info": {
   "codemirror_mode": {
    "name": "ipython",
    "version": 2
   },
   "file_extension": ".py",
   "mimetype": "text/x-python",
   "name": "python",
   "nbconvert_exporter": "python",
   "pygments_lexer": "ipython2",
   "version": "2.7.11"
  },
  "widgets": {
   "state": {},
   "version": "1.1.2"
  }
 },
 "nbformat": 4,
 "nbformat_minor": 0
}
